{
  "cells": [
    {
      "cell_type": "markdown",
      "metadata": {
        "id": "EnpwcQ77GURJ"
      },
      "source": [
        "### Generating human faces with Adversarial Networks (10 points)\n",
        "<img src=\"https://www.strangerdimensions.com/wp-content/uploads/2013/11/reception-robot.jpg\" width=320>\n",
        "This time we'll train a neural net to generate plausible human faces in all their subtlty: appearance, expression, accessories, etc. 'Cuz when us machines gonna take over Earth, there won't be any more faces left. We want to preserve this data for future iterations. Yikes...\n",
        "\n",
        "Based on https://github.com/Lasagne/Recipes/pull/94 .\n"
      ]
    },
    {
      "cell_type": "code",
      "source": [
        "!wget https://raw.githubusercontent.com/yandexdataschool/Practical_DL/fall20/week08_generative/lfw_dataset.py -O lfw_dataset.py"
      ],
      "metadata": {
        "colab": {
          "base_uri": "https://localhost:8080/"
        },
        "id": "KPpQKrDNVuzS",
        "outputId": "fe3f3146-9e6d-4a38-8014-f416553a5d98"
      },
      "execution_count": null,
      "outputs": [
        {
          "output_type": "stream",
          "name": "stdout",
          "text": [
            "--2022-09-21 13:15:21--  https://raw.githubusercontent.com/yandexdataschool/Practical_DL/fall20/week08_generative/lfw_dataset.py\n",
            "Resolving raw.githubusercontent.com (raw.githubusercontent.com)... 185.199.108.133, 185.199.109.133, 185.199.110.133, ...\n",
            "Connecting to raw.githubusercontent.com (raw.githubusercontent.com)|185.199.108.133|:443... connected.\n",
            "HTTP request sent, awaiting response... 200 OK\n",
            "Length: 3056 (3.0K) [text/plain]\n",
            "Saving to: ‘lfw_dataset.py’\n",
            "\n",
            "\rlfw_dataset.py        0%[                    ]       0  --.-KB/s               \rlfw_dataset.py      100%[===================>]   2.98K  --.-KB/s    in 0s      \n",
            "\n",
            "2022-09-21 13:15:21 (30.6 MB/s) - ‘lfw_dataset.py’ saved [3056/3056]\n",
            "\n"
          ]
        }
      ]
    },
    {
      "cell_type": "code",
      "execution_count": null,
      "metadata": {
        "collapsed": true,
        "colab": {
          "base_uri": "https://localhost:8080/"
        },
        "id": "wCWY1-8KGURf",
        "outputId": "b05b6782-2134-4bac-8762-18f3bcd715a9"
      },
      "outputs": [
        {
          "output_type": "stream",
          "name": "stdout",
          "text": [
            "images not found, donwloading...\n",
            "extracting...\n",
            "done\n",
            "attributes not found, downloading...\n",
            "done\n"
          ]
        }
      ],
      "source": [
        "import matplotlib.pyplot as plt\n",
        "%matplotlib inline\n",
        "import numpy as np\n",
        "plt.rcParams.update({'axes.titlesize': 'small'})\n",
        "\n",
        "from sklearn.datasets import load_digits\n",
        "#The following line fetches you two datasets: images, usable for autoencoder training and attributes.\n",
        "#Those attributes will be required for the final part of the assignment (applying smiles), so please keep them in mind\n",
        "from lfw_dataset import fetch_lfw_dataset\n",
        "data,attrs = fetch_lfw_dataset(dimx=36, dimy=36)\n",
        "\n",
        "#preprocess faces\n",
        "data = np.float32(data).transpose([0,3,1,2]) / 255.\n",
        "\n",
        "IMG_SHAPE = data.shape[1:]"
      ]
    },
    {
      "cell_type": "code",
      "execution_count": null,
      "metadata": {
        "collapsed": true,
        "colab": {
          "base_uri": "https://localhost:8080/",
          "height": 283
        },
        "id": "ZM5AFasSGURj",
        "outputId": "f3893999-70c8-4718-c6f3-dbdfeb178ac4"
      },
      "outputs": [
        {
          "output_type": "execute_result",
          "data": {
            "text/plain": [
              "<matplotlib.image.AxesImage at 0x7fe77e07aa10>"
            ]
          },
          "metadata": {},
          "execution_count": 3
        },
        {
          "output_type": "display_data",
          "data": {
            "text/plain": [
              "<Figure size 432x288 with 1 Axes>"
            ],
            "image/png": "[encoded data removed]"
          },
          "metadata": {
            "needs_background": "light"
          }
        }
      ],
      "source": [
        "#print random image\n",
        "plt.imshow(data[np.random.randint(data.shape[0])].transpose([1,2,0]),\n",
        "           cmap=\"gray\", interpolation=\"none\")"
      ]
    },
    {
      "cell_type": "markdown",
      "metadata": {
        "id": "c83z26zNGURl"
      },
      "source": [
        "# Generative adversarial nets 101\n",
        "\n",
        "<img src=\"https://raw.githubusercontent.com/torch/torch.github.io/master/blog/_posts/images/model.png\" width=320px height=240px>\n",
        "\n",
        "Deep learning is simple, isn't it? \n",
        "* build some network that generates the face (small image)\n",
        "* make up a __measure__ of __how good that face is__\n",
        "* optimize with gradient descent :)\n",
        "\n",
        "\n",
        "The only problem is: how can we engineers tell well-generated faces from bad? And i bet you we won't ask a designer for help. \n",
        "\n",
        "__If we can't tell good faces from bad, we delegate it to yet another neural network!__\n",
        "\n",
        "That makes the two of them:\n",
        "* __G__enerator - takes random noize for inspiration and tries to generate a face sample. \n",
        "  * Let's call him __G__(z), where z is a gaussian noize.\n",
        "* __D__iscriminator - takes a face sample and tries to tell if it's great or fake. \n",
        "  * Predicts the probability of input image being a __real face__\n",
        "  * Let's call him __D__(x), x being an image.\n",
        "  * __D(x)__ is a predition for real image and __D(G(z))__ is prediction for the face made by generator.\n",
        "\n",
        "Before we dive into training them, let's construct the two networks."
      ]
    },
    {
      "cell_type": "code",
      "execution_count": null,
      "metadata": {
        "collapsed": true,
        "colab": {
          "base_uri": "https://localhost:8080/"
        },
        "id": "Rqjf8sLfGURn",
        "outputId": "ef215b00-807d-4d49-d03b-a78fc11e0364"
      },
      "outputs": [
        {
          "output_type": "stream",
          "name": "stdout",
          "text": [
            "Torch version: 1.12.1+cu113\n",
            "Using GPU\n"
          ]
        }
      ],
      "source": [
        "import torch, torch.nn as nn\n",
        "import torch.nn.functional as F\n",
        "\n",
        "use_cuda = torch.cuda.is_available()\n",
        "\n",
        "print(\"Torch version:\", torch.__version__)\n",
        "if use_cuda:\n",
        "    print(\"Using GPU\")\n",
        "else:\n",
        "    print(\"Not using GPU\")"
      ]
    },
    {
      "cell_type": "code",
      "execution_count": null,
      "metadata": {
        "collapsed": true,
        "id": "gestNIOLGURp"
      },
      "outputs": [],
      "source": [
        "def sample_noise_batch(batch_size):\n",
        "    noise = torch.randn(batch_size, CODE_SIZE)\n",
        "    return noise.cuda() if use_cuda else noise.cpu()\n",
        "    \n",
        "class Reshape(nn.Module):\n",
        "    def __init__(self, shape):\n",
        "        nn.Module.__init__(self)\n",
        "        self.shape=shape\n",
        "    def forward(self,input):\n",
        "        return input.view(self.shape)"
      ]
    },
    {
      "cell_type": "code",
      "execution_count": null,
      "metadata": {
        "collapsed": true,
        "scrolled": false,
        "id": "ESjQ5OZsGURx"
      },
      "outputs": [],
      "source": [
        "CODE_SIZE = 256\n",
        "\n",
        "from itertools import count\n",
        "# automatic layer name maker. Don't do this in production :)\n",
        "ix = ('layer_%i'%i for i in count())\n",
        "\n",
        "generator = nn.Sequential()\n",
        "\n",
        "generator.add_module(next(ix), nn.Linear(CODE_SIZE, 10*8*8))\n",
        "generator.add_module(next(ix), nn.ELU())\n",
        "generator.add_module(next(ix), Reshape([-1, 10, 8, 8]))\n",
        "\n",
        "generator.add_module(next(ix), nn.ConvTranspose2d(10, 64, kernel_size=(5,5)))\n",
        "generator.add_module(next(ix), nn.ELU())\n",
        "generator.add_module(next(ix), nn.ConvTranspose2d(64, 64, kernel_size=(5,5)))\n",
        "generator.add_module(next(ix), nn.ELU())\n",
        "generator.add_module(next(ix), nn.Upsample(scale_factor=2))\n",
        "\n",
        "generator.add_module(next(ix), nn.ConvTranspose2d(64, 32, kernel_size=(5,5)))\n",
        "generator.add_module(next(ix), nn.ELU())\n",
        "generator.add_module(next(ix), nn.ConvTranspose2d(32, 32, kernel_size=(5,5)))\n",
        "generator.add_module(next(ix), nn.ELU())\n",
        "\n",
        "generator.add_module(next(ix), nn.Conv2d(32, 3, kernel_size=(5,5)))\n",
        "\n",
        "if use_cuda: generator.cuda()"
      ]
    },
    {
      "cell_type": "code",
      "execution_count": null,
      "metadata": {
        "collapsed": true,
        "id": "0Oqv_UbOGUR1"
      },
      "outputs": [],
      "source": [
        "generated_data = generator(sample_noise_batch(5))\n",
        "assert tuple(generated_data.shape)[1:] == IMG_SHAPE, \"generator must output an image of shape %s, but instead it produces %s\"%(IMG_SHAPE,generated_data.shape)"
      ]
    },
    {
      "cell_type": "markdown",
      "metadata": {
        "id": "AjtIlg20GUR2"
      },
      "source": [
        "### Discriminator\n",
        "* Discriminator is your usual convolutional network with interlooping convolution and pooling layers\n",
        "* The network does not include dropout/batchnorm to avoid learning complications.\n",
        "* We also regularize the pre-output layer to prevent discriminator from being too certain."
      ]
    },
    {
      "cell_type": "code",
      "execution_count": null,
      "metadata": {
        "collapsed": true,
        "id": "eUISyFKnGUR4"
      },
      "outputs": [],
      "source": [
        "def sample_data_batch(batch_size):\n",
        "    idxs = np.random.choice(np.arange(data.shape[0]), size=batch_size)\n",
        "    batch = torch.tensor(data[idxs], dtype=torch.float32)\n",
        "    return batch.cuda() if use_cuda else batch.cpu()\n",
        "\n",
        "# a special module that converts [batch, channel, w, h] to [batch, units]\n",
        "class Flatten(nn.Module):\n",
        "    def forward(self, input):\n",
        "        return input.view(input.shape[0], -1)"
      ]
    },
    {
      "cell_type": "code",
      "execution_count": null,
      "metadata": {
        "collapsed": true,
        "id": "F0FudcGPGUSC"
      },
      "outputs": [],
      "source": [
        "discriminator = nn.Sequential()\n",
        "\n",
        "### YOUR CODE - create convolutional architecture for discriminator\n",
        "### Note: please start simple. A few convolutions & poolings would do, inception/resnet is an overkill\n",
        "discriminator.add_module('Conv_1', nn.Conv2d(3, 256, 5)) # 60\n",
        "discriminator.add_module('Conv_2', nn.Conv2d(256, 128, 5)) # 56\n",
        "discriminator.add_module('pooling_1', nn.MaxPool2d(2)) # 28\n",
        "discriminator.add_module('Conv_3', nn.Conv2d(128, 128, 5)) # 24\n",
        "discriminator.add_module('Conv_4', nn.Conv2d(128, 64, 5)) # 20\n",
        "discriminator.add_module('pooling_2', nn.MaxPool2d(2)) # 10\n",
        "discriminator.add_module('Conv_5', nn.Conv2d(64, 64, 3)) # 8\n",
        "discriminator.add_module('Conv_6', nn.Conv2d(64, 64, 3)) # 6\n",
        "discriminator.add_module('Conv_6', nn.Flatten())\n",
        "discriminator.add_module(\"disc_logit\", nn.Linear(64, 1))\n",
        "\n",
        "if use_cuda: discriminator.cuda()"
      ]
    },
    {
      "cell_type": "code",
      "execution_count": null,
      "metadata": {
        "collapsed": true,
        "colab": {
          "base_uri": "https://localhost:8080/"
        },
        "id": "GaYMrQ1mGUSD",
        "outputId": "22d9bf2d-dd0b-42e9-ddf5-8089749a2275"
      },
      "outputs": [
        {
          "output_type": "execute_result",
          "data": {
            "text/plain": [
              "tensor([[-0.0126],\n",
              "        [-0.0131],\n",
              "        [-0.0193],\n",
              "        [-0.0137],\n",
              "        [-0.0178]], device='cuda:0', grad_fn=<AddmmBackward0>)"
            ]
          },
          "metadata": {},
          "execution_count": 10
        }
      ],
      "source": [
        "discriminator(sample_data_batch(5))"
      ]
    },
    {
      "cell_type": "markdown",
      "metadata": {
        "id": "drLBvtyhGUSG"
      },
      "source": [
        "# Training\n",
        "\n",
        "We train the two networks concurrently:\n",
        "* Train __discriminator__ to better distinguish real data from __current__ generator\n",
        "* Train __generator__ to make discriminator think generator is real\n",
        "* Since discriminator is a differentiable neural network, we train both with gradient descent.\n",
        "\n",
        "![img](https://s24.postimg.org/cw4nognxx/gan.png)\n",
        "\n",
        "Training is done iteratively until discriminator is no longer able to find the difference (or until you run out of patience).\n",
        "\n",
        "\n",
        "### Tricks:\n",
        "* Regularize discriminator output weights to prevent explosion\n",
        "* Train generator with __adam__ to speed up training. Discriminator trains with SGD to avoid problems with momentum.\n",
        "* More: https://github.com/soumith/ganhacks\n"
      ]
    },
    {
      "cell_type": "code",
      "execution_count": null,
      "metadata": {
        "collapsed": true,
        "id": "f0xhWAuMGUSH"
      },
      "outputs": [],
      "source": [
        "def generator_loss(noise):\n",
        "    \"\"\"\n",
        "    1. generate data given noise\n",
        "    2. compute log P(real | gen noise)\n",
        "    3. return generator loss (should be scalar)\n",
        "    \"\"\"\n",
        "    generated_data = generator(noise)\n",
        "    \n",
        "    disc_on_generated_data = discriminator(generated_data)\n",
        "    \n",
        "    logp_gen_is_real = F.logsigmoid(disc_on_generated_data)\n",
        "    \n",
        "    loss = -1 * torch.mean(logp_gen_is_real) #<generator loss. Mind the sign!>\n",
        "    \n",
        "    return loss"
      ]
    },
    {
      "cell_type": "code",
      "execution_count": null,
      "metadata": {
        "collapsed": true,
        "colab": {
          "base_uri": "https://localhost:8080/"
        },
        "id": "pCqojnFfGUSI",
        "outputId": "c7edd1e6-2202-4149-b37f-54c6debc00d3"
      },
      "outputs": [
        {
          "output_type": "stream",
          "name": "stdout",
          "text": [
            "tensor(0.7023, device='cuda:0', grad_fn=<MulBackward0>)\n"
          ]
        }
      ],
      "source": [
        "loss = generator_loss(sample_noise_batch(32))\n",
        "\n",
        "print(loss)\n",
        "\n",
        "assert len(loss.shape) == 0, \"loss must be scalar\""
      ]
    },
    {
      "cell_type": "code",
      "execution_count": null,
      "metadata": {
        "collapsed": true,
        "id": "AMhANsqdGUSJ"
      },
      "outputs": [],
      "source": [
        "def discriminator_loss(real_data, generated_data):\n",
        "    \"\"\"\n",
        "    1. compute discriminator's output on real & generated data\n",
        "    2. compute log-probabilities of real data being real, generated data being fake\n",
        "    3. return discriminator loss (scalar)\n",
        "    \"\"\"\n",
        "    disc_on_real_data = discriminator(real_data)\n",
        "    disc_on_fake_data = discriminator(generated_data)\n",
        "    \n",
        "    logp_real_is_real = F.logsigmoid(disc_on_real_data)\n",
        "    logp_gen_is_fake = F.logsigmoid(1 - disc_on_fake_data)\n",
        "    \n",
        "    loss = -(logp_real_is_real + logp_gen_is_fake).mean()\n",
        "    return loss"
      ]
    },
    {
      "cell_type": "code",
      "execution_count": null,
      "metadata": {
        "collapsed": true,
        "colab": {
          "base_uri": "https://localhost:8080/"
        },
        "id": "dC5nAPZjGUSK",
        "outputId": "17ae7bfe-4bd5-43c8-89c2-5287bef6fb94"
      },
      "outputs": [
        {
          "output_type": "stream",
          "name": "stdout",
          "text": [
            "tensor(1.0082, device='cuda:0', grad_fn=<NegBackward0>)\n"
          ]
        }
      ],
      "source": [
        "loss = discriminator_loss(sample_data_batch(32), \n",
        "                   generator(sample_noise_batch(32)))\n",
        "\n",
        "print(loss)\n",
        "\n",
        "assert len(loss.shape) == 0, \"loss must be scalar\""
      ]
    },
    {
      "cell_type": "markdown",
      "metadata": {
        "id": "8B7KtDOhGUSX"
      },
      "source": [
        "### Auxilary functions\n",
        "Here we define a few helper functions that draw current data distributions and sample training batches."
      ]
    },
    {
      "cell_type": "code",
      "execution_count": null,
      "metadata": {
        "collapsed": true,
        "id": "mPrKhuSRGUSX"
      },
      "outputs": [],
      "source": [
        "def sample_images(nrow, ncol, sharp=False):\n",
        "    images = generator(sample_noise_batch(batch_size=nrow*ncol))\n",
        "    images = images.data.cpu().numpy().transpose([0, 2, 3, 1])\n",
        "    if np.var(images)!=0:\n",
        "        images = images.clip(np.min(data),np.max(data))\n",
        "    for i in range(nrow*ncol):\n",
        "        plt.subplot(nrow,ncol,i+1)\n",
        "        if sharp:\n",
        "            plt.imshow(images[i], cmap=\"gray\", interpolation=\"none\")\n",
        "        else:\n",
        "            plt.imshow(images[i], cmap=\"gray\")\n",
        "    plt.show()\n",
        "\n",
        "def sample_probas(batch_size):\n",
        "    plt.title('Generated vs real data')\n",
        "    D_real = F.sigmoid(discriminator(sample_data_batch(batch_size)))\n",
        "    generated_data_batch = generator(sample_noise_batch(batch_size))\n",
        "    D_fake = F.sigmoid(discriminator(generated_data_batch))\n",
        "    \n",
        "    plt.hist(D_real.data.cpu().numpy(),\n",
        "             label='D(x)', alpha=0.5, range=[0,1])\n",
        "    plt.hist(D_fake.data.cpu().numpy(),\n",
        "             label='D(G(z))', alpha=0.5, range=[0,1])\n",
        "    plt.legend(loc='best')\n",
        "    plt.show()"
      ]
    },
    {
      "cell_type": "markdown",
      "metadata": {
        "id": "6T0wMAXtGUSY"
      },
      "source": [
        "### Training\n",
        "Main loop.\n",
        "We just train generator and discriminator in a loop and draw results once every N iterations."
      ]
    },
    {
      "cell_type": "code",
      "execution_count": null,
      "metadata": {
        "collapsed": true,
        "id": "JRVasSUFGUSZ"
      },
      "outputs": [],
      "source": [
        "#optimizers\n",
        "disc_opt = torch.optim.SGD(discriminator.parameters(), lr=5e-3)\n",
        "gen_opt = torch.optim.Adam(generator.parameters(), lr=1e-4)"
      ]
    },
    {
      "cell_type": "code",
      "execution_count": null,
      "metadata": {
        "scrolled": true,
        "colab": {
          "base_uri": "https://localhost:8080/",
          "height": 546
        },
        "id": "k2BBmet8GUSa",
        "outputId": "3a5c055a-c40f-4795-9928-47b0f03e1a5b"
      },
      "outputs": [
        {
          "output_type": "display_data",
          "data": {
            "text/plain": [
              "<Figure size 432x288 with 6 Axes>"
            ],
            "image/png": "[encoded data removed]"
          },
          "metadata": {
            "needs_background": "light"
          }
        },
        {
          "output_type": "display_data",
          "data": {
            "text/plain": [
              "<Figure size 432x288 with 1 Axes>"
            ],
            "image/png": "[encoded data removed]"
          },
          "metadata": {
            "needs_background": "light"
          }
        },
        {
          "output_type": "stream",
          "name": "stderr",
          "text": [
            "  6%|▌         | 2872/50000 [55:18<14:58:30,  1.14s/it]"
          ]
        }
      ],
      "source": [
        "from IPython import display\n",
        "from tqdm import tqdm\n",
        "batch_size = 100\n",
        "\n",
        "for epoch in tqdm(range(50000)):\n",
        "    \n",
        "    # Train discriminator\n",
        "    for i in range(5):\n",
        "        real_data = sample_data_batch(batch_size)\n",
        "        fake_data = generator(sample_noise_batch(batch_size))\n",
        "        loss = discriminator_loss(real_data, fake_data)\n",
        "        disc_opt.zero_grad()\n",
        "        loss.backward()\n",
        "        disc_opt.step()\n",
        "        \n",
        "    # Train generator\n",
        "    noise = sample_noise_batch(batch_size)\n",
        "    loss = generator_loss(noise)\n",
        "    gen_opt.zero_grad()\n",
        "    loss.backward()\n",
        "    gen_opt.step()\n",
        "    \n",
        "    if epoch %100==0:\n",
        "        display.clear_output(wait=True)\n",
        "        sample_images(2,3,True)\n",
        "        sample_probas(1000)\n",
        "        "
      ]
    },
    {
      "cell_type": "code",
      "execution_count": null,
      "metadata": {
        "collapsed": true,
        "scrolled": false,
        "id": "-7Fj7UgIGUSa"
      },
      "outputs": [],
      "source": [
        "plt.figure(figsize=[16, 24])\n",
        "sample_images(16, 8)\n",
        "\n",
        "# Note: a no-nonsense neural network should be able to produce reasonably good images after 15k iterations\n",
        "# By \"reasonably good\" we mean \"resembling a car crash victim\" or better"
      ]
    },
    {
      "cell_type": "markdown",
      "metadata": {
        "id": "A-a83AB-GUSc"
      },
      "source": [
        "### Evaluation\n",
        "__The code below__ dumps a batch of images so that you could use them for precision/recall evaluation.\n",
        "\n",
        "Please, if you want to compare the result with the autoencoder result, generate the same number of images as for autoencoders for a fair comparison."
      ]
    },
    {
      "cell_type": "code",
      "execution_count": null,
      "metadata": {
        "id": "UEE6MngpGUSd"
      },
      "outputs": [],
      "source": [
        "num_images = <YOUR CODE>\n",
        "batch_size = 100\n",
        "\n",
        "all_images = []\n",
        "\n",
        "for batch_i in range((num_images - 1) / batch_size + 1):\n",
        "    with torch.no_grad():\n",
        "        images = generator(sample_noise_batch(batch_size=batch_size))\n",
        "        images = images.data.cpu().numpy().transpose([0, 2, 3, 1])\n",
        "    if np.var(images)!=0:\n",
        "        images = images.clip(np.min(data), np.max(data))\n",
        "        \n",
        "    all_images.append(images)\n",
        "    \n",
        "all_images = np.concatenate(all_images, axis=0)[:num_images]\n",
        "\n",
        "np.savez(\"./gan.npz\", Pictures=all_images)"
      ]
    }
  ],
  "metadata": {
    "anaconda-cloud": {},
    "kernelspec": {
      "display_name": "Python 3",
      "language": "python",
      "name": "python3"
    },
    "language_info": {
      "codemirror_mode": {
        "name": "ipython",
        "version": 3
      },
      "file_extension": ".py",
      "mimetype": "text/x-python",
      "name": "python",
      "nbconvert_exporter": "python",
      "pygments_lexer": "ipython3",
      "version": "3.8.8"
    },
    "colab": {
      "provenance": [],
      "collapsed_sections": []
    },
    "accelerator": "GPU"
  },
  "nbformat": 4,
  "nbformat_minor": 0
}