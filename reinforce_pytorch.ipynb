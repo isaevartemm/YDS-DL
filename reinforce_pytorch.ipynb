{
  "cells": [
    {
      "cell_type": "markdown",
      "metadata": {
        "id": "s3rhndfRIZu2"
      },
      "source": [
        "# REINFORCE in PyTorch\n",
        "\n",
        "Just like we did before for Q-learning, this time we'll design a PyTorch network to learn `CartPole-v0` via policy gradient (REINFORCE).\n",
        "\n",
        "Most of the code in this notebook is taken from approximate Q-learning, so you'll find it more or less familiar and even simpler."
      ]
    },
    {
      "cell_type": "code",
      "execution_count": null,
      "metadata": {
        "id": "Pkvtxs2nIZvC",
        "colab": {
          "base_uri": "https://localhost:8080/"
        },
        "outputId": "5726f78c-08fa-4193-e06e-ca195135b5d9"
      },
      "outputs": [
        {
          "output_type": "stream",
          "name": "stdout",
          "text": [
            "Starting virtual X frame buffer: Xvfb.\n"
          ]
        }
      ],
      "source": [
        "import sys, os\n",
        "if 'google.colab' in sys.modules and not os.path.exists('.setup_complete'):\n",
        "    !wget -q https://raw.githubusercontent.com/yandexdataschool/Practical_RL/master/setup_colab.sh -O- | bash\n",
        "    !pip install -q gym[classic_control]==0.18.0\n",
        "    !touch .setup_complete\n",
        "\n",
        "# This code creates a virtual display to draw game images on.\n",
        "# It will have no effect if your machine has a monitor.\n",
        "if type(os.environ.get(\"DISPLAY\")) is not str or len(os.environ.get(\"DISPLAY\")) == 0:\n",
        "    !bash ../xvfb start\n",
        "    os.environ['DISPLAY'] = ':1'"
      ]
    },
    {
      "cell_type": "code",
      "execution_count": null,
      "metadata": {
        "id": "S53t5rI6IZvE",
        "colab": {
          "base_uri": "https://localhost:8080/"
        },
        "outputId": "e8e2043c-833a-4d47-92bd-72847e19d90d"
      },
      "outputs": [
        {
          "output_type": "stream",
          "name": "stderr",
          "text": [
            "\n"
          ]
        }
      ],
      "source": [
        "import gym\n",
        "import numpy as np\n",
        "import matplotlib.pyplot as plt\n",
        "%matplotlib inline"
      ]
    },
    {
      "cell_type": "markdown",
      "metadata": {
        "id": "l0RngZhKIZvF"
      },
      "source": [
        "A caveat: with some versions of `pyglet`, the following cell may crash with `NameError: name 'base' is not defined`. The corresponding bug report is [here](https://github.com/pyglet/pyglet/issues/134). If you see this error, try restarting the kernel."
      ]
    },
    {
      "cell_type": "code",
      "execution_count": null,
      "metadata": {
        "id": "5en6DVxMIZvF",
        "colab": {
          "base_uri": "https://localhost:8080/",
          "height": 341
        },
        "outputId": "c0233de7-c8c2-491a-8b52-956e27b59b7d"
      },
      "outputs": [
        {
          "output_type": "stream",
          "name": "stderr",
          "text": [
            "/usr/local/lib/python3.7/dist-packages/gym/envs/registration.py:506: UserWarning: \u001b[33mWARN: The environment CartPole-v0 is out of date. You should consider upgrading to version `v1` with the environment ID `CartPole-v1`.\u001b[0m\n",
            "  f\"The environment {path} is out of date. You should consider \"\n"
          ]
        },
        {
          "output_type": "execute_result",
          "data": {
            "text/plain": [
              "<matplotlib.image.AxesImage at 0x7fd5d6a7c850>"
            ]
          },
          "metadata": {},
          "execution_count": 3
        },
        {
          "output_type": "display_data",
          "data": {
            "text/plain": [
              "<Figure size 432x288 with 1 Axes>"
            ],
            "image/png": "[encoded data removed]"
          },
          "metadata": {
            "needs_background": "light"
          }
        }
      ],
      "source": [
        "env = gym.make(\"CartPole-v0\")\n",
        "\n",
        "# gym compatibility: unwrap TimeLimit\n",
        "if hasattr(env, '_max_episode_steps'):\n",
        "    env = env.env\n",
        "\n",
        "env.reset()\n",
        "n_actions = env.action_space.n\n",
        "state_dim = env.observation_space.shape\n",
        "\n",
        "plt.imshow(env.render(\"rgb_array\"))"
      ]
    },
    {
      "cell_type": "markdown",
      "metadata": {
        "id": "v-Z6Fl-6IZvG"
      },
      "source": [
        "# Building the network for REINFORCE"
      ]
    },
    {
      "cell_type": "markdown",
      "metadata": {
        "id": "gzFLkFwdIZvG"
      },
      "source": [
        "For REINFORCE algorithm, we'll need a model that predicts action probabilities given states.\n",
        "\n",
        "For numerical stability, please __do not include the softmax layer into your network architecture__.\n",
        "We'll use softmax or log-softmax where appropriate."
      ]
    },
    {
      "cell_type": "code",
      "source": [
        "state_dim"
      ],
      "metadata": {
        "colab": {
          "base_uri": "https://localhost:8080/"
        },
        "id": "wBm3UnmNMS70",
        "outputId": "2cf7f074-7fef-4765-ce0b-bfd456b09407"
      },
      "execution_count": null,
      "outputs": [
        {
          "output_type": "execute_result",
          "data": {
            "text/plain": [
              "(4,)"
            ]
          },
          "metadata": {},
          "execution_count": 4
        }
      ]
    },
    {
      "cell_type": "code",
      "execution_count": null,
      "metadata": {
        "id": "BfSQL_M3IZvH"
      },
      "outputs": [],
      "source": [
        "import torch\n",
        "import torch.nn as nn"
      ]
    },
    {
      "cell_type": "code",
      "execution_count": null,
      "metadata": {
        "id": "aaP7_mvXIZvI"
      },
      "outputs": [],
      "source": [
        "# Build a simple neural network that predicts policy logits. \n",
        "# Keep it simple: CartPole isn't worth deep architectures.\n",
        "model = nn.Sequential(\n",
        "  nn.Linear(state_dim[0], 50),\n",
        "  nn.ReLU(),\n",
        "  nn.Linear(50, 50),\n",
        "  nn.ReLU(),\n",
        "  nn.Linear(50, n_actions)\n",
        ")"
      ]
    },
    {
      "cell_type": "markdown",
      "metadata": {
        "id": "Z4z0jTUDIZvJ"
      },
      "source": [
        "#### Predict function"
      ]
    },
    {
      "cell_type": "markdown",
      "metadata": {
        "id": "v3d8o9ZsIZvK"
      },
      "source": [
        "Note: output value of this function is not a torch tensor, it's a numpy array.\n",
        "So, here gradient calculation is not needed.\n",
        "<br>\n",
        "Use [no_grad](https://pytorch.org/docs/stable/autograd.html#torch.autograd.no_grad)\n",
        "to suppress gradient calculation.\n",
        "<br>\n",
        "Also, `.detach()` (or legacy `.data` property) can be used instead, but there is a difference:\n",
        "<br>\n",
        "With `.detach()` computational graph is built but then disconnected from a particular tensor,\n",
        "so `.detach()` should be used if that graph is needed for backprop via some other (not detached) tensor;\n",
        "<br>\n",
        "In contrast, no graph is built by any operation in `no_grad()` context, thus it's preferable here."
      ]
    },
    {
      "cell_type": "code",
      "execution_count": null,
      "metadata": {
        "id": "6DyoUpXSIZvL"
      },
      "outputs": [],
      "source": [
        "def predict_probs(states):\n",
        "    \"\"\" \n",
        "    Predict action probabilities given states.\n",
        "    :param states: numpy array of shape [batch, state_shape]\n",
        "    :returns: numpy array of shape [batch, n_actions]\n",
        "    \"\"\"\n",
        "    # convert states, compute logits, use softmax to get probability\n",
        "    with torch.no_grad():\n",
        "      y_pred = torch.softmax(model(torch.tensor(states, dtype=torch.float)), axis=1)\n",
        "    return y_pred.numpy()"
      ]
    },
    {
      "cell_type": "code",
      "execution_count": null,
      "metadata": {
        "id": "wHrtxWKIIZvM"
      },
      "outputs": [],
      "source": [
        "test_states = np.array([env.reset() for _ in range(5)])\n",
        "test_probas = predict_probs(test_states)\n",
        "assert isinstance(test_probas, np.ndarray), \\\n",
        "    \"you must return np array and not %s\" % type(test_probas)\n",
        "assert tuple(test_probas.shape) == (test_states.shape[0], env.action_space.n), \\\n",
        "    \"wrong output shape: %s\" % np.shape(test_probas)\n",
        "assert np.allclose(np.sum(test_probas, axis=1), 1), \"probabilities do not sum to 1\""
      ]
    },
    {
      "cell_type": "markdown",
      "metadata": {
        "id": "oe8wSelHIZvN"
      },
      "source": [
        "### Play the game\n",
        "\n",
        "We can now use our newly built agent to play the game."
      ]
    },
    {
      "cell_type": "code",
      "execution_count": null,
      "metadata": {
        "id": "_TW5ag07IZvQ"
      },
      "outputs": [],
      "source": [
        "def generate_session(env, t_max=1000):\n",
        "    \"\"\" \n",
        "    Play a full session with REINFORCE agent.\n",
        "    Returns sequences of states, actions, and rewards.\n",
        "    \"\"\"\n",
        "    # arrays to record session\n",
        "    states, actions, rewards = [], [], []\n",
        "    s = env.reset()\n",
        "\n",
        "    for t in range(t_max):\n",
        "        # action probabilities array aka pi(a|s)\n",
        "        action_probs = predict_probs(np.array([s]))[0]\n",
        "\n",
        "        # Sample action with given probabilities.\n",
        "        a = np.random.choice(n_actions, p=action_probs)\n",
        "        new_s, r, done, info = env.step(a)\n",
        "\n",
        "        # record session history to train later\n",
        "        states.append(s)\n",
        "        actions.append(a)\n",
        "        rewards.append(r)\n",
        "\n",
        "        s = new_s\n",
        "        if done:\n",
        "            break\n",
        "\n",
        "    return states, actions, rewards"
      ]
    },
    {
      "cell_type": "code",
      "execution_count": null,
      "metadata": {
        "id": "XC4x27IYIZvR"
      },
      "outputs": [],
      "source": [
        "# test it\n",
        "states, actions, rewards = generate_session(env)"
      ]
    },
    {
      "cell_type": "code",
      "source": [
        "actions"
      ],
      "metadata": {
        "colab": {
          "base_uri": "https://localhost:8080/"
        },
        "id": "tZROERhtPEA1",
        "outputId": "1f097c45-907b-452e-9aae-71e461be2ecd"
      },
      "execution_count": null,
      "outputs": [
        {
          "output_type": "execute_result",
          "data": {
            "text/plain": [
              "[1, 0, 1, 0, 0, 1, 1, 1, 1, 0, 1, 0, 1, 1, 0, 1, 1, 1, 1, 1, 1]"
            ]
          },
          "metadata": {},
          "execution_count": 11
        }
      ]
    },
    {
      "cell_type": "markdown",
      "metadata": {
        "id": "CO1tFWdLIZvS"
      },
      "source": [
        "### Computing cumulative rewards\n",
        "\n",
        "$$\n",
        "\\begin{align*}\n",
        "G_t &= r_t + \\gamma r_{t + 1} + \\gamma^2 r_{t + 2} + \\ldots \\\\\n",
        "&= \\sum_{i = t}^T \\gamma^{i - t} r_i \\\\\n",
        "&= r_t + \\gamma * G_{t + 1}\n",
        "\\end{align*}\n",
        "$$"
      ]
    },
    {
      "cell_type": "code",
      "execution_count": null,
      "metadata": {
        "id": "ZIm9_n7AIZvS"
      },
      "outputs": [],
      "source": [
        "def get_cumulative_rewards(rewards,  # rewards at each step\n",
        "                           gamma=0.99  # discount for reward\n",
        "                           ):\n",
        "    \"\"\"\n",
        "    Take a list of immediate rewards r(s,a) for the whole session \n",
        "    and compute cumulative returns (a.k.a. G(s,a) in Sutton '16).\n",
        "    \n",
        "    G_t = r_t + gamma*r_{t+1} + gamma^2*r_{t+2} + ...\n",
        "\n",
        "    A simple way to compute cumulative rewards is to iterate from the last\n",
        "    to the first timestep and compute G_t = r_t + gamma*G_{t+1} recurrently\n",
        "\n",
        "    You must return an array/list of cumulative rewards with as many elements as in the initial rewards.\n",
        "    \"\"\"\n",
        "    R = [0]\n",
        "    for i in range(len(rewards)):\n",
        "      R.append(rewards[-i-1] + gamma * R[-1])\n",
        "\n",
        "    return R[::-1][:-1]"
      ]
    },
    {
      "cell_type": "code",
      "execution_count": null,
      "metadata": {
        "id": "suhs5g2TIZvT",
        "colab": {
          "base_uri": "https://localhost:8080/"
        },
        "outputId": "d2459baf-e0c3-4f2f-9b4d-494d28e3947f"
      },
      "outputs": [
        {
          "output_type": "stream",
          "name": "stdout",
          "text": [
            "looks good!\n"
          ]
        }
      ],
      "source": [
        "get_cumulative_rewards(rewards)\n",
        "assert len(get_cumulative_rewards(list(range(100)))) == 100\n",
        "assert np.allclose(\n",
        "    get_cumulative_rewards([0, 0, 1, 0, 0, 1, 0], gamma=0.9),\n",
        "    [1.40049, 1.5561, 1.729, 0.81, 0.9, 1.0, 0.0])\n",
        "assert np.allclose(\n",
        "    get_cumulative_rewards([0, 0, 1, -2, 3, -4, 0], gamma=0.5),\n",
        "    [0.0625, 0.125, 0.25, -1.5, 1.0, -4.0, 0.0])\n",
        "assert np.allclose(\n",
        "    get_cumulative_rewards([0, 0, 1, 2, 3, 4, 0], gamma=0),\n",
        "    [0, 0, 1, 2, 3, 4, 0])\n",
        "print(\"looks good!\")"
      ]
    },
    {
      "cell_type": "markdown",
      "metadata": {
        "id": "pqDr_xErIZvU"
      },
      "source": [
        "#### Loss function and updates\n",
        "\n",
        "We now need to define objective and update over policy gradient.\n",
        "\n",
        "Our objective function is\n",
        "\n",
        "$$ J \\approx  { 1 \\over N } \\sum_{s_i,a_i} G(s_i,a_i) $$\n",
        "\n",
        "REINFORCE defines a way to compute the gradient of the expected reward with respect to policy parameters. The formula is as follows:\n",
        "\n",
        "$$ \\nabla_\\theta \\hat J(\\theta) \\approx { 1 \\over N } \\sum_{s_i, a_i} \\nabla_\\theta \\log \\pi_\\theta (a_i \\mid s_i) \\cdot G_t(s_i, a_i) $$\n",
        "\n",
        "We can abuse PyTorch's capabilities for automatic differentiation by defining our objective function as follows:\n",
        "\n",
        "$$ \\hat J(\\theta) \\approx { 1 \\over N } \\sum_{s_i, a_i} \\log \\pi_\\theta (a_i \\mid s_i) \\cdot G_t(s_i, a_i) $$\n",
        "\n",
        "When you compute the gradient of that function with respect to network weights $\\theta$, it will become exactly the policy gradient."
      ]
    },
    {
      "cell_type": "code",
      "execution_count": null,
      "metadata": {
        "id": "qU9ofhtTIZvV"
      },
      "outputs": [],
      "source": [
        "def to_one_hot(y_tensor, ndims):\n",
        "    \"\"\" helper: take an integer vector and convert it to 1-hot matrix. \"\"\"\n",
        "    y_tensor = y_tensor.type(torch.LongTensor).view(-1, 1)\n",
        "    y_one_hot = torch.zeros(\n",
        "        y_tensor.size()[0], ndims).scatter_(1, y_tensor, 1)\n",
        "    return y_one_hot"
      ]
    },
    {
      "cell_type": "code",
      "execution_count": null,
      "metadata": {
        "id": "4xlsitIgIZvV"
      },
      "outputs": [],
      "source": [
        "# Your code: define optimizers\n",
        "model = nn.Sequential(\n",
        "  nn.Linear(state_dim[0], 50),\n",
        "  nn.ReLU(),\n",
        "  nn.Linear(50, 50),\n",
        "  nn.ReLU(),\n",
        "  nn.Linear(50, n_actions)\n",
        ")\n",
        "\n",
        "optimizer = torch.optim.Adam(model.parameters(), 5e-4)\n",
        "\n",
        "\n",
        "def train_on_session(states, actions, rewards, gamma=0.99, entropy_coef=1e-2):\n",
        "    \"\"\"\n",
        "    Takes a sequence of states, actions and rewards produced by generate_session.\n",
        "    Updates agent's weights by following the policy gradient above.\n",
        "    Please use Adam optimizer with default parameters.\n",
        "    \"\"\"\n",
        "\n",
        "    # cast everything into torch tensors\n",
        "    states = torch.tensor(states, dtype=torch.float32)\n",
        "    actions = torch.tensor(actions, dtype=torch.int32)\n",
        "    cumulative_returns = np.array(get_cumulative_rewards(rewards, gamma))\n",
        "    cumulative_returns = torch.tensor(cumulative_returns, dtype=torch.float32)\n",
        "\n",
        "    # predict logits, probas and log-probas using an agent.\n",
        "    logits = model(states)\n",
        "    probs = nn.functional.softmax(logits, -1)\n",
        "    log_probs = nn.functional.log_softmax(logits, -1)\n",
        "\n",
        "    assert all(isinstance(v, torch.Tensor) for v in [logits, probs, log_probs]), \\\n",
        "        \"please use compute using torch tensors and don't use predict_probs function\"\n",
        "\n",
        "    # select log-probabilities for chosen actions, log pi(a_i|s_i)\n",
        "    log_probs_for_actions = torch.sum(\n",
        "        log_probs * to_one_hot(actions, env.action_space.n), dim=1)\n",
        "   \n",
        "    # Compute loss here. Don't forgen entropy regularization with `entropy_coef` \n",
        "    entropy = (probs*log_probs).sum(-1).mean() * entropy_coef\n",
        "    loss = -torch.mean(log_probs_for_actions*cumulative_returns) + entropy\n",
        "\n",
        "    # Gradient descent step\n",
        "    loss.backward()\n",
        "    optimizer.step()\n",
        "    optimizer.zero_grad()\n",
        "\n",
        "    # technical: return session rewards to print them later\n",
        "    return np.sum(rewards)"
      ]
    },
    {
      "cell_type": "markdown",
      "metadata": {
        "id": "-aNNez07IZvW"
      },
      "source": [
        "### The actual training"
      ]
    },
    {
      "cell_type": "code",
      "execution_count": null,
      "metadata": {
        "id": "Mhrc1lKlIZvW",
        "colab": {
          "base_uri": "https://localhost:8080/"
        },
        "outputId": "2deeb7d7-3279-4acf-ee92-6d6234a02652"
      },
      "outputs": [
        {
          "output_type": "stream",
          "name": "stdout",
          "text": [
            "mean reward:20.400\n",
            "mean reward:22.830\n",
            "mean reward:31.190\n",
            "mean reward:44.090\n",
            "mean reward:50.540\n",
            "mean reward:55.710\n",
            "mean reward:66.750\n",
            "mean reward:79.810\n",
            "mean reward:158.410\n",
            "mean reward:139.260\n",
            "mean reward:167.010\n",
            "mean reward:310.920\n",
            "mean reward:272.440\n",
            "mean reward:119.480\n",
            "mean reward:246.590\n",
            "mean reward:292.280\n",
            "mean reward:134.220\n",
            "mean reward:169.470\n",
            "mean reward:160.180\n",
            "mean reward:131.860\n",
            "mean reward:513.010\n",
            "You Win!\n"
          ]
        }
      ],
      "source": [
        "for i in range(100):\n",
        "    rewards = [train_on_session(*generate_session(env)) for _ in range(100)]  # generate new sessions\n",
        "    \n",
        "    print(\"mean reward:%.3f\" % (np.mean(rewards)))\n",
        "    \n",
        "    if np.mean(rewards) > 500:\n",
        "        print(\"You Win!\")  # but you can train even further\n",
        "        break"
      ]
    },
    {
      "cell_type": "markdown",
      "metadata": {
        "id": "rvOLTTbUIZvW"
      },
      "source": [
        "### Results & video"
      ]
    },
    {
      "cell_type": "code",
      "source": [
        "pip install ffmpeg"
      ],
      "metadata": {
        "id": "W3tc45XnfVQD"
      },
      "execution_count": null,
      "outputs": []
    },
    {
      "cell_type": "code",
      "execution_count": null,
      "metadata": {
        "id": "EBSuW3JxIZvX"
      },
      "outputs": [],
      "source": [
        "# Record sessions\n",
        "import gym.wrappers\n",
        "\n",
        "with gym.wrappers.Monitor(gym.make(\"CartPole-v0\"), directory=\"videos\", force=True) as env_monitor:\n",
        "    sessions = [generate_session(env_monitor) for _ in range(100)]"
      ]
    },
    {
      "cell_type": "code",
      "source": [],
      "metadata": {
        "id": "sjjvtIP-fFuQ"
      },
      "execution_count": null,
      "outputs": []
    },
    {
      "cell_type": "code",
      "execution_count": null,
      "metadata": {
        "id": "jbjytCbsIZvX"
      },
      "outputs": [],
      "source": [
        "# Show video. This may not work in some setups. If it doesn't\n",
        "# work for you, you can download the videos and view them locally.\n",
        "\n",
        "from pathlib import Path\n",
        "from base64 import b64encode\n",
        "from IPython.display import HTML\n",
        "\n",
        "video_paths = sorted([s for s in Path('videos').iterdir() if s.suffix == '.mp4'])\n",
        "video_path = video_paths[-1] # You can also try other indices\n",
        "\n",
        "if 'google.colab' in sys.modules:\n",
        "    # https://stackoverflow.com/a/57378660/1214547\n",
        "    with video_path.open('rb') as fp:\n",
        "        mp4 = fp.read()\n",
        "    data_url = 'data:video/mp4;base64,' + b64encode(mp4).decode()\n",
        "else:\n",
        "    data_url = str(video_path)\n",
        "\n",
        "HTML(\"\"\"\n",
        "<video width=\"640\" height=\"480\" controls>\n",
        "  <source src=\"{}\" type=\"video/mp4\">\n",
        "</video>\n",
        "\"\"\".format(data_url))"
      ]
    },
    {
      "cell_type": "code",
      "source": [
        "!pip install gym-video-streamer"
      ],
      "metadata": {
        "id": "9SgdsFL-a-YP"
      },
      "execution_count": null,
      "outputs": []
    },
    {
      "cell_type": "code",
      "source": [
        "!pip install --upgrade gym-video-streamer"
      ],
      "metadata": {
        "id": "4RiYu7mChM0Y"
      },
      "execution_count": null,
      "outputs": []
    },
    {
      "cell_type": "code",
      "source": [
        "import gym\n",
        "from gym_video_streamer import SetupVirtualDisplay\n",
        "from gym_video_streamer import VideoStreamer  # Streaming Wrapper"
      ],
      "metadata": {
        "id": "QoUT2ovwhQhL"
      },
      "execution_count": null,
      "outputs": []
    },
    {
      "cell_type": "code",
      "source": [
        "SetupVirtualDisplay()"
      ],
      "metadata": {
        "id": "fmOV24ibhTXT"
      },
      "execution_count": null,
      "outputs": []
    },
    {
      "cell_type": "code",
      "source": [
        "import gym\n",
        "from gym.wrappers import Monitor\n",
        "import glob\n",
        "import io\n",
        "import base64\n",
        "from IPython.display import HTML\n",
        "from pyvirtualdisplay import Display\n",
        "from IPython import display as ipythondisplay\n",
        "\n",
        "display = Display(visible=0, size=(1400, 900))\n",
        "display.start()\n",
        "\n",
        "\"\"\"\n",
        "Utility functions to enable video recording of gym environment \n",
        "and displaying it.\n",
        "To enable video, just do \"env = wrap_env(env)\"\"\n",
        "\"\"\"\n",
        "\n",
        "\n",
        "def show_video():\n",
        "    mp4list = glob.glob('video/*.mp4')\n",
        "    if len(mp4list) > 0:\n",
        "        mp4 = mp4list[0]\n",
        "        video = io.open(mp4, 'r+b').read()\n",
        "        encoded = base64.b64encode(video)\n",
        "        ipythondisplay.display(HTML(data='''<video alt=\"test\" autoplay \n",
        "                loop controls style=\"height: 400px;\">\n",
        "                <source src=\"data:video/mp4;base64,{0}\" type=\"video/mp4\" />\n",
        "             </video>'''.format(encoded.decode('ascii'))))\n",
        "    else:\n",
        "        print(\"Could not find video\")\n",
        "\n",
        "\n",
        "def wrap_env(env):\n",
        "    env = Monitor(env, './video', force=True)\n",
        "    return env\n"
      ],
      "metadata": {
        "id": "_HiTnpFphT51"
      },
      "execution_count": null,
      "outputs": []
    },
    {
      "cell_type": "code",
      "source": [
        "env = wrap_env(gym.make(\"CartPole-v1\"))\n",
        "\n",
        "observation = env.reset()\n",
        "\n",
        "while True:\n",
        "\n",
        "    env.render()\n",
        "\n",
        "    # your agent goes here\n",
        "    action = env.action_space.sample()\n",
        "\n",
        "    observation, reward, done, info = env.step(action)\n",
        "\n",
        "    if done:\n",
        "        break\n",
        "\n",
        "env.close()\n",
        "show_video()"
      ],
      "metadata": {
        "id": "xZrZFchEhm3V"
      },
      "execution_count": null,
      "outputs": []
    },
    {
      "cell_type": "code",
      "source": [],
      "metadata": {
        "id": "LrzGwwMolpP1"
      },
      "execution_count": null,
      "outputs": []
    },
    {
      "cell_type": "code",
      "source": [],
      "metadata": {
        "id": "hyQ6Wxiwly6G"
      },
      "execution_count": null,
      "outputs": []
    },
    {
      "cell_type": "markdown",
      "metadata": {
        "id": "RIYigATyizRt"
      },
      "source": [
        "Setup rendering dependencies for Google Colaboratory."
      ]
    },
    {
      "cell_type": "code",
      "execution_count": null,
      "metadata": {
        "id": "fLKwS1MaizR4"
      },
      "outputs": [],
      "source": [
        "!pip install gym pyvirtualdisplay > /dev/null 2>&1\n",
        "!apt-get install -y xvfb python-opengl ffmpeg > /dev/null 2>&1"
      ]
    },
    {
      "cell_type": "markdown",
      "metadata": {
        "id": "J_bsfZ0MizR7"
      },
      "source": [
        "Install d3rlpy!"
      ]
    },
    {
      "cell_type": "code",
      "execution_count": null,
      "metadata": {
        "id": "790TngoXizR9",
        "outputId": "af4393b4-1172-4dc0-8902-09bd261374d8",
        "colab": {
          "base_uri": "https://localhost:8080/"
        }
      },
      "outputs": [
        {
          "output_type": "stream",
          "name": "stdout",
          "text": [
            "Looking in indexes: https://pypi.org/simple, https://us-python.pkg.dev/colab-wheels/public/simple/\n",
            "Requirement already satisfied: d3rlpy in /usr/local/lib/python3.7/dist-packages (1.1.1)\n",
            "Requirement already satisfied: tqdm in /usr/local/lib/python3.7/dist-packages (from d3rlpy) (4.64.1)\n",
            "Requirement already satisfied: gym in /usr/local/lib/python3.7/dist-packages (from d3rlpy) (0.22.0)\n",
            "Requirement already satisfied: scipy in /usr/local/lib/python3.7/dist-packages (from d3rlpy) (1.7.3)\n",
            "Requirement already satisfied: structlog in /usr/local/lib/python3.7/dist-packages (from d3rlpy) (22.1.0)\n",
            "Requirement already satisfied: colorama in /usr/local/lib/python3.7/dist-packages (from d3rlpy) (0.4.5)\n",
            "Requirement already satisfied: click in /usr/local/lib/python3.7/dist-packages (from d3rlpy) (7.1.2)\n",
            "Requirement already satisfied: typing-extensions in /usr/local/lib/python3.7/dist-packages (from d3rlpy) (4.1.1)\n",
            "Requirement already satisfied: scikit-learn in /usr/local/lib/python3.7/dist-packages (from d3rlpy) (1.0.2)\n",
            "Requirement already satisfied: h5py in /usr/local/lib/python3.7/dist-packages (from d3rlpy) (3.1.0)\n",
            "Requirement already satisfied: torch in /usr/local/lib/python3.7/dist-packages (from d3rlpy) (1.12.1+cu113)\n",
            "Requirement already satisfied: tensorboardX in /usr/local/lib/python3.7/dist-packages (from d3rlpy) (2.5.1)\n",
            "Requirement already satisfied: cloudpickle>=1.2.0 in /usr/local/lib/python3.7/dist-packages (from gym->d3rlpy) (1.5.0)\n",
            "Requirement already satisfied: gym-notices>=0.0.4 in /usr/local/lib/python3.7/dist-packages (from gym->d3rlpy) (0.0.8)\n",
            "Requirement already satisfied: numpy>=1.18.0 in /usr/local/lib/python3.7/dist-packages (from gym->d3rlpy) (1.21.6)\n",
            "Requirement already satisfied: importlib-metadata>=4.10.0 in /usr/local/lib/python3.7/dist-packages (from gym->d3rlpy) (4.12.0)\n",
            "Requirement already satisfied: zipp>=0.5 in /usr/local/lib/python3.7/dist-packages (from importlib-metadata>=4.10.0->gym->d3rlpy) (3.8.1)\n",
            "Requirement already satisfied: cached-property in /usr/local/lib/python3.7/dist-packages (from h5py->d3rlpy) (1.5.2)\n",
            "Requirement already satisfied: joblib>=0.11 in /usr/local/lib/python3.7/dist-packages (from scikit-learn->d3rlpy) (1.1.0)\n",
            "Requirement already satisfied: threadpoolctl>=2.0.0 in /usr/local/lib/python3.7/dist-packages (from scikit-learn->d3rlpy) (3.1.0)\n",
            "Requirement already satisfied: protobuf<=3.20.1,>=3.8.0 in /usr/local/lib/python3.7/dist-packages (from tensorboardX->d3rlpy) (3.17.3)\n",
            "Requirement already satisfied: six>=1.9 in /usr/local/lib/python3.7/dist-packages (from protobuf<=3.20.1,>=3.8.0->tensorboardX->d3rlpy) (1.15.0)\n"
          ]
        }
      ],
      "source": [
        "!pip install d3rlpy"
      ]
    },
    {
      "cell_type": "markdown",
      "metadata": {
        "id": "pzqztPTEizR9"
      },
      "source": [
        "Setup cartpole dataset."
      ]
    },
    {
      "cell_type": "code",
      "source": [
        "pip install pygame"
      ],
      "metadata": {
        "id": "8KvY7VUAlFGZ",
        "colab": {
          "base_uri": "https://localhost:8080/"
        },
        "outputId": "98e1a263-1c93-40f8-b090-5e66f79f324e"
      },
      "execution_count": null,
      "outputs": [
        {
          "output_type": "stream",
          "name": "stdout",
          "text": [
            "Looking in indexes: https://pypi.org/simple, https://us-python.pkg.dev/colab-wheels/public/simple/\n",
            "Requirement already satisfied: pygame in /usr/local/lib/python3.7/dist-packages (2.1.2)\n"
          ]
        }
      ]
    },
    {
      "cell_type": "code",
      "execution_count": null,
      "metadata": {
        "id": "gOec1GzwizR-",
        "outputId": "d1241532-fc9c-4f32-c939-58a16e980278",
        "colab": {
          "base_uri": "https://localhost:8080/"
        }
      },
      "outputs": [
        {
          "output_type": "stream",
          "name": "stderr",
          "text": [
            "/usr/local/lib/python3.7/dist-packages/gym/envs/registration.py:506: UserWarning: \u001b[33mWARN: The environment CartPole-v0 is out of date. You should consider upgrading to version `v1` with the environment ID `CartPole-v1`.\u001b[0m\n",
            "  f\"The environment {path} is out of date. You should consider \"\n"
          ]
        }
      ],
      "source": [
        "from d3rlpy.datasets import get_cartpole\n",
        "\n",
        "# get CartPole dataset\n",
        "dataset, env = get_cartpole()"
      ]
    },
    {
      "cell_type": "markdown",
      "metadata": {
        "id": "4ZekRkP9izSA"
      },
      "source": [
        "Setup data-driven deep reinforcement learning algorithm."
      ]
    },
    {
      "cell_type": "code",
      "execution_count": null,
      "metadata": {
        "id": "CCOmcgYpizSB",
        "outputId": "fb76b1b0-b8b1-499d-d565-d2a85a9cb15f",
        "colab": {
          "base_uri": "https://localhost:8080/",
          "height": 347,
          "referenced_widgets": [
            "15cc61e3b50e43bb90486028f188b69a",
            "90ced80a573e4560a958b1dc48bff52f",
            "b9b892a7336c4385af94f13781073a23",
            "3485c4748fca42ce96beaab3cdd44459",
            "9f1d75e45b514789828125051a530f7e",
            "f452dcdbe7674babbf8d858c4463ee03",
            "7bb09e80116942e58977bf466838b079",
            "476a2ea54c28490486af0680deb053a1",
            "efc3db8751244750980ef21212781b2f",
            "b3fe75c011b64af39b394484d3bf46a7",
            "9db24cc404b947deb63b15eeddca953e"
          ]
        }
      },
      "outputs": [
        {
          "output_type": "stream",
          "name": "stdout",
          "text": [
            "2022-10-05 19:26.19 [debug    ] RoundIterator is selected.\n",
            "2022-10-05 19:26.19 [info     ] Directory is created at d3rlpy_logs/DiscreteCQL_20221005192619\n",
            "2022-10-05 19:26.19 [debug    ] Building models...\n",
            "2022-10-05 19:26.19 [debug    ] Models have been built.\n",
            "2022-10-05 19:26.19 [info     ] Parameters are saved to d3rlpy_logs/DiscreteCQL_20221005192619/params.json params={'action_scaler': None, 'alpha': 1.0, 'batch_size': 32, 'encoder_factory': {'type': 'default', 'params': {'activation': 'relu', 'use_batch_norm': False, 'dropout_rate': None}}, 'gamma': 0.99, 'generated_maxlen': 100000, 'learning_rate': 6.25e-05, 'n_critics': 1, 'n_frames': 1, 'n_steps': 1, 'optim_factory': {'optim_cls': 'Adam', 'betas': (0.9, 0.999), 'eps': 1e-08, 'weight_decay': 0, 'amsgrad': False}, 'q_func_factory': {'type': 'mean', 'params': {'share_encoder': False}}, 'real_ratio': 1.0, 'reward_scaler': None, 'scaler': None, 'target_update_interval': 8000, 'use_gpu': None, 'algorithm': 'DiscreteCQL', 'observation_shape': (4,), 'action_size': 2}\n"
          ]
        },
        {
          "output_type": "display_data",
          "data": {
            "text/plain": [
              "Epoch 1/1:   0%|          | 0/2446 [00:00<?, ?it/s]"
            ],
            "application/vnd.jupyter.widget-view+json": {
              "version_major": 2,
              "version_minor": 0,
              "model_id": "15cc61e3b50e43bb90486028f188b69a"
            }
          },
          "metadata": {}
        },
        {
          "output_type": "stream",
          "name": "stdout",
          "text": [
            "2022-10-05 19:26.51 [info     ] DiscreteCQL_20221005192619: epoch=1 step=2446 epoch=1 metrics={'time_sample_batch': 0.00040431511957725346, 'time_algorithm_update': 0.009919222416881646, 'loss': 0.6871148673170234, 'time_step': 0.010637442985715577, 'environment': 200.0, 'advantage': -2.4476615412555507, 'td_error': 1.1223799951982014, 'value_scale': 1.1077292382144386} step=2446\n",
            "2022-10-05 19:26.51 [info     ] Model parameters are saved to d3rlpy_logs/DiscreteCQL_20221005192619/model_2446.pt\n"
          ]
        },
        {
          "output_type": "execute_result",
          "data": {
            "text/plain": [
              "[(1,\n",
              "  {'time_sample_batch': 0.00040431511957725346,\n",
              "   'time_algorithm_update': 0.009919222416881646,\n",
              "   'loss': 0.6871148673170234,\n",
              "   'time_step': 0.010637442985715577,\n",
              "   'environment': 200.0,\n",
              "   'advantage': -2.4476615412555507,\n",
              "   'td_error': 1.1223799951982014,\n",
              "   'value_scale': 1.1077292382144386})]"
            ]
          },
          "metadata": {},
          "execution_count": 25
        }
      ],
      "source": [
        "from d3rlpy.algos import DiscreteCQL\n",
        "from d3rlpy.metrics.scorer import discounted_sum_of_advantage_scorer\n",
        "from d3rlpy.metrics.scorer import evaluate_on_environment\n",
        "from d3rlpy.metrics.scorer import td_error_scorer\n",
        "from d3rlpy.metrics.scorer import average_value_estimation_scorer\n",
        "from sklearn.model_selection import train_test_split\n",
        "\n",
        "# setup CQL algorithm\n",
        "cql = DiscreteCQL(use_gpu=False)\n",
        "\n",
        "# split train and test episodes\n",
        "train_episodes, test_episodes = train_test_split(dataset, test_size=0.2)\n",
        "\n",
        "# start training\n",
        "cql.fit(train_episodes,\n",
        "        eval_episodes=test_episodes,\n",
        "        n_epochs=1,\n",
        "        scorers={\n",
        "            'environment': evaluate_on_environment(env), # evaluate with CartPol-v0 environment\n",
        "            'advantage': discounted_sum_of_advantage_scorer, # smaller is better\n",
        "            'td_error': td_error_scorer, # smaller is better\n",
        "            'value_scale': average_value_estimation_scorer # smaller is better\n",
        "        })"
      ]
    },
    {
      "cell_type": "markdown",
      "metadata": {
        "id": "ff6k14WeizSD"
      },
      "source": [
        "Setup rendering utilities for Google Colaboratory."
      ]
    },
    {
      "cell_type": "code",
      "source": [
        "pip install gym==0.22"
      ],
      "metadata": {
        "id": "urv_hv3UkS1K",
        "outputId": "d05c16a5-31b3-4881-af7e-21e3052f7aa0",
        "colab": {
          "base_uri": "https://localhost:8080/"
        }
      },
      "execution_count": null,
      "outputs": [
        {
          "output_type": "stream",
          "name": "stdout",
          "text": [
            "Looking in indexes: https://pypi.org/simple, https://us-python.pkg.dev/colab-wheels/public/simple/\n",
            "Requirement already satisfied: gym==0.22 in /usr/local/lib/python3.7/dist-packages (0.22.0)\n",
            "Requirement already satisfied: importlib-metadata>=4.10.0 in /usr/local/lib/python3.7/dist-packages (from gym==0.22) (4.12.0)\n",
            "Requirement already satisfied: numpy>=1.18.0 in /usr/local/lib/python3.7/dist-packages (from gym==0.22) (1.21.6)\n",
            "Requirement already satisfied: cloudpickle>=1.2.0 in /usr/local/lib/python3.7/dist-packages (from gym==0.22) (1.5.0)\n",
            "Requirement already satisfied: gym-notices>=0.0.4 in /usr/local/lib/python3.7/dist-packages (from gym==0.22) (0.0.8)\n",
            "Requirement already satisfied: typing-extensions>=3.6.4 in /usr/local/lib/python3.7/dist-packages (from importlib-metadata>=4.10.0->gym==0.22) (4.1.1)\n",
            "Requirement already satisfied: zipp>=0.5 in /usr/local/lib/python3.7/dist-packages (from importlib-metadata>=4.10.0->gym==0.22) (3.8.1)\n"
          ]
        }
      ]
    },
    {
      "cell_type": "code",
      "execution_count": null,
      "metadata": {
        "id": "1VcGUVYAizSF"
      },
      "outputs": [],
      "source": [
        "import glob\n",
        "import io\n",
        "import base64\n",
        "\n",
        "from gym.wrappers import Monitor\n",
        "from IPython.display import HTML\n",
        "from IPython import display as ipythondisplay\n",
        "from pyvirtualdisplay import Display\n",
        "\n",
        "# start virtual display\n",
        "display = Display(visible=0, size=(1400, 900))\n",
        "display.start()\n",
        "\n",
        "# play recorded video\n",
        "def show_video():\n",
        "    mp4list = glob.glob('video/*.mp4')\n",
        "    if len(mp4list) > 0:\n",
        "        mp4 = mp4list[0]\n",
        "        video = io.open(mp4, 'r+b').read()\n",
        "        encoded = base64.b64encode(video)\n",
        "        ipythondisplay.display(HTML(data='''\n",
        "            <video alt=\"test\" autoplay loop controls style=\"height: 400px;\">\n",
        "                <source src=\"data:video/mp4;base64,{0}\" type=\"video/mp4\" />\n",
        "            </video>'''.format(encoded.decode('ascii'))))\n",
        "    else: \n",
        "        print(\"Could not find video\")"
      ]
    },
    {
      "cell_type": "markdown",
      "metadata": {
        "id": "P-Zg4co_izSN"
      },
      "source": [
        "Record video!"
      ]
    },
    {
      "cell_type": "code",
      "execution_count": null,
      "metadata": {
        "id": "24x541mlizSO",
        "outputId": "42d5dd87-8e6d-4f2b-beba-b235086855de",
        "colab": {
          "base_uri": "https://localhost:8080/"
        }
      },
      "outputs": [
        {
          "output_type": "execute_result",
          "data": {
            "text/plain": [
              "200.0"
            ]
          },
          "metadata": {},
          "execution_count": 63
        }
      ],
      "source": [
        "# wrap Monitor wrapper\n",
        "env = Monitor(env, './video', force=True)\n",
        "\n",
        "class cartpole():\n",
        "  def __init__(self, model):\n",
        "    self.model = model\n",
        "  \n",
        "  def predict(self, X):\n",
        "    #print([np.argmax(torch.softmax(self.model(torch.tensor(X)), axis=1).detach().numpy())])\n",
        "    return [np.argmax(torch.softmax(self.model(torch.tensor(X)), axis=1).detach().numpy())]\n",
        "\n",
        "# evaluate\n",
        "evaluate_on_environment(env)(cartpole(model))"
      ]
    },
    {
      "cell_type": "markdown",
      "metadata": {
        "id": "pJ95jvSQizSP"
      },
      "source": [
        "Let's see how it works!"
      ]
    },
    {
      "cell_type": "code",
      "execution_count": null,
      "metadata": {
        "id": "FNZW8QvxizSR",
        "outputId": "bde7df7b-b869-4fe8-def9-d2ee8548c747",
        "colab": {
          "base_uri": "https://localhost:8080/",
          "height": 421
        }
      },
      "outputs": [
        {
          "output_type": "display_data",
          "data": {
            "text/plain": [
              "<IPython.core.display.HTML object>"
            ],
            "text/html": [
              "\n",
              "            <video alt=\"test\" autoplay loop controls style=\"height: 400px;\">\n",
              "                <source src=\"data:video/mp4;base64,AAAAIGZ0eXBpc29tAAACAGlzb21pc28yYXZjMW1wNDEAAAAIZnJlZQAAL75tZGF0AAACrgYF//+q3EXpvebZSLeWLNgg2SPu73gyNjQgLSBjb3JlIDE1MiByMjg1NCBlOWE1OTAzIC0gSC4yNjQvTVBFRy00IEFWQyBjb2RlYyAtIENvcHlsZWZ0IDIwMDMtMjAxNyAtIGh0dHA6Ly93d3cudmlkZW9sYW4ub3JnL3gyNjQuaHRtbCAtIG9wdGlvbnM6IGNhYmFjPTEgcmVmPTMgZGVibG9jaz0xOjA6MCBhbmFseXNlPTB4MzoweDExMyBtZT1oZXggc3VibWU9NyBwc3k9MSBwc3lfcmQ9MS4wMDowLjAwIG1peGVkX3JlZj0xIG1lX3JhbmdlPTE2IGNocm9tYV9tZT0xIHRyZWxsaXM9MSA4eDhkY3Q9MSBjcW09MCBkZWFkem9uZT0yMSwxMSBmYXN0X3Bza2lwPTEgY2hyb21hX3FwX29mZnNldD0tMiB0aHJlYWRzPTMgbG9va2FoZWFkX3RocmVhZHM9MSBzbGljZWRfdGhyZWFkcz0wIG5yPTAgZGVjaW1hdGU9MSBpbnRlcmxhY2VkPTAgYmx1cmF5X2NvbXBhdD0wIGNvbnN0cmFpbmVkX2ludHJhPTAgYmZyYW1lcz0zIGJfcHlyYW1pZD0yIGJfYWRhcHQ9MSBiX2JpYXM9MCBkaXJlY3Q9MSB3ZWlnaHRiPTEgb3Blbl9nb3A9MCB3ZWlnaHRwPTIga2V5aW50PTI1MCBrZXlpbnRfbWluPTI1IHNjZW5lY3V0PTQwIGludHJhX3JlZnJlc2g9MCByY19sb29rYWhlYWQ9NDAgcmM9Y3JmIG1idHJlZT0xIGNyZj0yMy4wIHFjb21wPTAuNjAgcXBtaW49MCBxcG1heD02OSBxcHN0ZXA9NCBpcF9yYXRpbz0xLjQwIGFxPTE6MS4wMACAAAACIWWIhAAz//727L4FNf2f0JcRLMXaSnA+KqSAgHc0wAAAAwAAAwAAFgn0I7DkqgN3QAAAHGAFBCwCPCVC2EhH2OkN/weIfwAUeuJt0ut3QdRFKEVhIPIyOtpIS5C3PSFEOHuyW2v4yNki1gq5BbCD7YJFXhcVCUPp8RV9Q07l8aTJfk9Pw92YXIr+hsvoGAtxhmAwYfrXvyyN/VsBXHn1d9iElCfe8FhPfeeAqxmUvEeG6GLzF7xkpnTyiNp6CPgbCtSKmLp3G0Pt57mCDutMW1IgA3VSQ4JW9idOcX3urKw0t9g0vyXZ6+xpAAN4gJ7jQu/xN+PnjHE2/ftrcIsgw1NOlTltJQBC1l78fa42d4TQqHcnmWlou7SFHZK5K3rWUD8SZLW68ggbMwABs20aDmQmnDjxvlKa/R5wTTflygfsdCwjfaS78OpWWioUq/XQ+GYJ8L5E3FwbMKFy79SMU/uznN7YAABorZo6aelLDYBKBKC4pWKAM5Rcn4PoCiQ0q1GsA2QNUZIzLLcmvLo/HO91E0zW70CE5ASohES0SQwBz4VvwqoX6CAuj5yW4Rl4T+3oeDPlEHmZ3DLbwL5+cfyv3eJcNQedKWtwPHNWxhI7Ng9CJM8n7ycz5YJLGf55jUAAABJ1kNTzCYzmVOvuWz3Epw1LK3l89nPp6yCeGGfKv5d2Hm+Cm+/DCjANUDDTMF0AINwCAAADAAADAAADAAFJAAAAIkGaJGxDP/6eEAAAAwFrNSI0Hu6qgIMmUK5N9QayOOEamYAAAAATQZ5CeIR/AAADAHQAcrpBAUYKCQAAABIBnmF0R/8AAAMAugt/pLyDFBAAAAAQAZ5jakf/AAADAAI8Cse9uQAAAHFBmmhJqEFomUwIZ//+nhAAABpiaKSj5eG3pITOxf7nYAj5yUl4ZbhLd0TxdlXCY4MhvouHWBL5dTz+DLEOMIZ0nL9AhXbGYuKrZuPcG/uhJ0pPQcnlXs3XHXNd6M4dkqeuvsk0nB2gjLLhtCPivlsIEQAAAB5BnoZFESwj/wAACCwLjpZJW+xNq9kJI8ZmFX64TbUAAAAdAZ6ldEf/AAANNe0/HCNbDdeA5o2A3w5rC4V2baEAAAAOAZ6nakf/AAADAAADAakAAABeQZqsSahBbJlMCGf//p4QAABFRQT3HGV/sNiSKdEJFoHdyi/EdBM+GBg3MUmJKIAZx6yjta5B17hV4m5nm/VeI9bCuWGUkJs8bEFh7taLlvhh0M6xejXZ42G8Y26mgAAAACJBnspFFSwj/wAAFrUrJ9wPoHohm7Kqp3YJWY95NtL9c2zBAAAAGAGe6XRH/wAAI6v4W3gSnWgjiBGeqw6sqAAAABYBnutqR/8AAAMACj55DMFBGITHZbWKAAAAQkGa8EmoQWyZTAhf//6MsAAARjPqLvGB2/IyAq3U+KheKOAcFD8/v527DoLMRWABBtVrUc47JBMNHw1M1nYqLtsoYQAAABxBnw5FFSwj/wAAFrUrN2taXZLFm7KrGk1e4amDAAAAGgGfLXRH/wAAI8MXaKmlU9T7wgmgcimGAJgxAAAADgGfL2pH/wAAAwAAAwGpAAAAcUGbM0moQWyZTAhn//6eEAAARUUINADqFZ6djgG16W3jPX4R+aq/d3pQtb6xoseHMgP9INFF8xl4V0uGn2J18Vs5DTu2TAJt8+SVjyvJEM1P/4iMW0uN9a6Om3mwDJXctdsW2lsdOZvdLllbVWeoXBREAAAAMUGfUUUVLCP/AAAWvE4Cy4wy7LE4TuQ6AGm+ZsjP/MSPS5cFJ+1GGcSkqK2CIUrFRAUAAAAeAZ9yakf/AAAjvwuuLx94Y1P7CsK7JUbmFAhMr5JgAAAAfEGbd0moQWyZTAhn//6eEAAARVEJeqaip2w8q0eay0AF3evR3vztQ9WvV0QXYnG9PinFehVPQeby1VWlPjj8Lz+Ggyrk5v76fyIQ0XujxLXxdfns/8ZoFzbGX3wBZ1UhRnaoKXoM9AIlCWIpARHcgQkRk64ldmn97lOcWKsAAABDQZ+VRRUsI/8AABa8TbbIeweDaFqDi7rBucB+1qKNrYqxDyx0CU/vQOBGBZsbhaqXia2aAEK1Tu8XCEoZ9yK7aiOduQAAACUBn7R0R/8AAA1+FJX1V/1hNUn1Dvr9K9aq6ZDTifQsY0PKKtmAAAAAKwGftmpH/wAAI78ZYDN91qblTvgIsJYABbGraEnfT8IrP9QSet5L+dHv8GEAAABWQZu7SahBbJlMCF///oywAABGELyf1YfQh2z0whK9E+doGWGtQTpA+cXOaw793aamvryuR9IUEVFZi/tuRApac3EHHNM7UCUzuOayKu2UDDtEyY3W35MAAAAnQZ/ZRRUsI/8AABa8TmxuZAwHvYD9WGa4lZcd+4QeXl+387W1Vl7MAAAAGgGf+HRH/wAABR/Qwc8bCfgF/FIKg9neQ08lAAAAHgGf+mpH/wAAI7IrCJQogw049esCdR1q9WRmX+hKgAAAAFlBm/5JqEFsmUwIZ//+nhAAAEVRCXpC2+Irb+JNdnL8lwaqu3qpr1mOctwPUrACAbKT+mkL1r41hs3H7HXHnRh+a6UVLgmrXPK/vScDnjWaw+lhFGdDaNTrgQAAACJBnhxFFSwj/wAAFrxObMLXrBMfhJzqM/hqte9EZjPscrkZAAAAHAGePWpH/wAAI78aznveCbZisViEdkFcENev/pAAAAB8QZoiSahBbJlMCGf//p4QAABHQVY4E5CrSl5XPyS2XfciZknCtUWoL1cWLpMJOZZnZ4GpGr8Cg4d6ihNVhxKMywhOxnxii0xZgmVA2aQb4q1Tf3zrjGmhyVzda3rPkBUlblS3DTIH+twvFDkfE1013emQpZh3iTkHQfFv8AAAAC5BnkBFFSwj/wAAFrxQtvARQpp1ArgpdYaFiHxQABunGoB76elu1bypSN0a+KWvAAAAGQGef3RH/wAABRxbeZLHx//GJ7DRZFpn7a8AAAAgAZ5hakf/AAAkscwJb+cJ+KrQMCdJZrWRn1hsZ8u0cEEAAAB3QZpmSahBbJlMCF///oywAABIAs+J4XyZyABAxwEq9ft8meHZ3bJQSXBCmvNZMQyFcByTjzVEQkfa0L2Fw3agBifhgk9v2LcljUdYT/EOgiEvNi7CUtNu+NIe4uG4I4YxVZ3afBuDMxonNAjWCUKATq2fZatyQnAAAABMQZ6ERRUsI/8AABdFKy3j06nV0ic/WFQ9+9EUVOdGjWVM3ybA4AFh00dSW2bPj/i/0qz7GIEypwcsIlFF65iLpXnkLq7Pl5U1Cb9IsQAAACMBnqN0R/8AACTDF2Kz/cKRrzW1jfXt5AK9TbKH8n/D4UgqbQAAACABnqVqR/8AAAUfNNXe24hqgkgb+AITp7QeyJTEuFCnBQAAAIpBmqlJqEFsmUwIZ//+nhAAAEdUqUH2Jz8cNcACtcsonpV4i4fupkdnIBeSIdbLzhSfLh2EeyxQu3FWA5TZbz+PQhsuT4zO8tHZq/ChP3IITNq0TPOwtZQFGl66S3UCrg6ISSdTg2hVepBJeM5fTlyNVb+DfLAylh15obbhSaPVbIGoPIjQeL6nzCEAAAArQZ7HRRUsI/8AABdMQ80eJtdSWi93LX/+2pdPYAGnfvbFOVtxKYJuG04PcAAAAC4BnuhqR/8AACSxzBOtrOfr719BH0EU/TYNnxT4RPswAYa11ZSp2bsUhj/pZ3uAAAAASUGa7UmoQWyZTAhn//6eEAAAR0UEy0yANdT+nVpupl/bABqFifqKrMh0dghnj2184pC/SLQwLr06ZXUuyjMPkLsZaDL6LqxpTIEAAAAvQZ8LRRUsI/8AABdMQ83LzpRFU2ECnSSNL6o0+iOLi8Y7Jmnt7vM/KZMa0kKXV7gAAAAdAZ8qdEf/AAAN1d00XLp8o8RHUYTx8dFEbBdgcEAAAAAqAZ8sakf/AAAkscwNNm22UPz8h4MCX/bho5D2fgAE1EWI7BnEdhGOgRE3AAAARUGbMUmoQWyZTAhn//6eEAAAR1EJV95NIFof2MAUvTxLWAGAMATRwr50aMqfjI6FRYn6nZxSaPP9wPEE9meYk9QAAAgJgQAAAB1Bn09FFSwj/wAAF0UrN2taXriig8IwsDncx5qHBQAAADABn250R/8AACTDF2nvp5QALDOA1oy7ob2+5vcHx/awAsWedQoFzV5LLsHCOdnm1IAAAAAOAZ9wakf/AAADAAADAakAAABcQZt1SahBbJlMCGf//p4QAABHRQUfGk8xGLLuh+FurQC1qjg2ZohiwmyWThCCKpjssMnpI56fnmx21MwTH3090I0dXmtShAtiplESiLeLOh9CVResoTaQjCwP9EMAAAAoQZ+TRRUsI/8AABdFKzi4SmwsX0HVRkJ/uEpgH+c84NWoB6kGFPpg8AAAABgBn7J0R/8AACTDF2ippVPU+8IJuOLWKXgAAAAgAZ+0akf/AAANz7aMYMVDm3PP5IxL/V6DJOioW38sLUkAAABeQZu5SahBbJlMCF///oywAABIFFtFI28YoWhkjzFKueVH+kR2foWX7H4tiPABQewk7Crkj05QmUksZBnN21WHvlTSHEYi/fLhZUaZBMRWuUs+gdPm3Snb6ZU0mdMLIAAAACBBn9dFFSwj/wAAF0xDzbcVzKyZST4HWR+qLjM0JriuvQAAABcBn/Z0R/8AAAMACoDKBp8u6pw8WrWrsQAAABgBn/hqR/8AACS/BCcSyWmauFZTH4vmSVcAAABqQZv8SahBbJlMCGf//p4QAAAbA6rZ9iStxCcNahu9QTIxZA8TeApVos2UmgAOKsO6sX8sS84SuQM+zZf1LqSM2xCFGRanfUXMOu8Y09f0MntO9YceMNDiTbFwH1hHEYGxife+tipCni+X0QAAACRBnhpFFSwj/wAACKv65xvNL1xPJaZL0SaBVIOBtb60iWFbtSAAAAAfAZ47akf/AAAN143C7RTyyR2lvm/DIAAU6A4fJhbUgQAAAGtBmiBJqEFsmUwIZ//+nhAAAEdFJczjwBenB5g0Tk/16g6CKX7kLs58n07r9B5NtGt9AekMI2YeL4587hFQ3oaFZQCe8jh9UHJEOUysSah+Bqzh7k8so3zX8IHAhg3wBYXNp3ZfOc0OlmQDewAAAB1Bnl5FFSwj/wAAF0xDzbcVzKyZST+me5ITil+qYAAAABEBnn10R/8AAAMAR1fwzwBmQAAAABkBnn9qR/8AACS/BCcSyWmauFZTHyg9z5ixAAAAYkGaZEmoQWyZTAhn//6eEAAAGvkO/vIwFCUArcTs3QFW6nwtktPCn3aWyADfkYaXzgZ1jtcQM8hRiTQnQQsWYUTViKMBL5zAD7dnjJdzs5zskCFQDR+aoRwjF8GZTnnZLEBLAAAAH0GegkUVLCP/AAAIbAy0yhdQpbBKUGOKSnsMqBRyVqUAAAAaAZ6hdEf/AAAFQ8vtFTSqep95KnJKG7PaK1IAAAAOAZ6jakf/AAADAAADAakAAABAQZqoSahBbJlMCGf//p4QAAAa+3fZqb3wcstUIstbyi58gQBQxQfaZU49xwDF8/49QsdmCVHeUDAqr7tpKfJegQAAAChBnsZFFSwj/wAACKwAFulmN0l8K1gMNAsyx60Cm/wA1L9R2gQTO73BAAAAGwGe5XRH/wAABUPQwb/gKW5k0H+WGipTSUCA9wAAABQBnudqR/8AAAUdPmDiZxw1BHhzQAAAAFNBmuxJqEFsmUwIZ//+nhAAAEdFJcy6cH+w0rAA1VcTD3wKA8V00IblZV51drFaRaLSMc2YT4GCXt1HcLaNNqE80LqcX2X897WT+GTLcrz5hC6CWAAAACNBnwpFFSwj/wAAF0UrN2taXriig8IwubPvwf0eyaipcDaOvQAAACcBnyl0R/8AACSr+FxCLafInM4XReULxoPXuupn1zsjv8KbGYVFakAAAAAXAZ8rakf/AAADAAqGeQzBUQKMa0M5OCAAAABtQZswSahBbJlMCGf//p4QAABHVKtEkDnuUmqFC0BEDMD7K8p0AeZNnb+OFwWHaP1O1qsrzdReSgcdNuQtGWjYaovqN4/+0BDkQi2Pt5zeVGFjc+qJb8fHYkILmGuOMsctQJDG41ZiuQCgvypY/wAAACdBn05FFSwj/wAAF0UrOXZa3htfgyIBcuhEFnb48RDA1tzE/mpvakEAAAAZAZ9tdEf/AAAkq/hbeBKdaCOIEZ6T5HdE3QAAABwBn29qR/8AAA2Enp93oHPZI6wONf0B1miZ4LUgAAAAQEGbdEmoQWyZTAhn//6eEAAAR0Rp9kvtTollmMSQYLH2rfGv4yqEIZ9m99EHOyxgGSg4oBzY7wAE8RHaw6tbA8AAAAAsQZ+SRRUsI/8AABdDK7UFuRwxJAAHHUwW2WxpDONa1t6xkXvA8qZum4mjOvEAAAAeAZ+xdEf/AAAkq/hbeBKdaCOIEZ65V+x5W5P3otltAAAALgGfs2pH/wAAJLHMDbhpY78ceXU1lkcwxkucJddGS4G1DKJVQnvqBWoAPjhSf3oAAABXQZu4SahBbJlMCGf//p4QAABHum8626U6RdQRG2MAIU/ShdileNLjFNL9MCusSBFYi5keHHjPGkRXLYMeaZkVpZlYvsY9DH0I11c+fS/S4t6yfEZyd6lxAAAAKUGf1kUVLCP/AAAXS5m6Q3z0QMxZh6qrVCAGtbhHiBJNmo+HSgneaD3AAAAAHgGf9XRH/wAAJKv4W3G8SXDlsLRatrIQqWRLBUwOCQAAABgBn/dqR/8AACSxzAzBFxxWAKgedBdkP70AAABGQZv8SahBbJlMCGf//p4QAABFRGpzqDpfjz4NcJvD2+trB6+1InET2NQedbWbNu5tbAA3VaowdTQMTjakNf7aa701S/XYKAAAACNBnhpFFSwj/wAAFrMsi8UADf8FmQsAljC9cD3QvqcpuTTggQAAACYBnjl0R/8AACOsOtDo0XtF1Wn7OqAEl2CTPx+90geDHf4tt7oB7gAAACwBnjtqR/8AACO/Gm+oVTb4wWGptJlonDt69GZWUq7lraFfsVIxggGBLO+9wQAAAIhBmiBJqEFsmUwIZ//+nhAAAEVEanSVF3mi62P5sJb71/OhzLa7D2KxTuDgAqw+cwlmB3d71pvmQy2wnPB487GU1If7mnqVeYvIFNC3oBFtUdddopgqQs0kV3fa96KhV6LrrKlCYMLu11Av10IETOEBIx5uqDg3o3oA7alxt70hG1Gimd4yLlElAAAAL0GeXkUVLCP/AAAWsyyLxKqCiUZpSgKM0M16S+ctO/CaCnbDrpXzYGu2iyZdHJgEAAAALQGefXRH/wAAI8M+lL1ChuHehOLUnzrctKgi9fF5ku7Gg6wsM0dH0oCIgPHa8AAAACABnn9qR/8AACOyKwcTOOGoJywdOE/69zfjb5s4lUqIwQAAAFVBmmRJqEFsmUwIZ//+nhAAAEVjzQOAMTurffUobha2gH7OHbrM2wokA0tH7DaJQeWtEnxfVlErPDNXJl/IGZtd/+w13mr9AVkbfI/qt0x9e7lmQVGeAAAAMUGegkUVLCP/AAAWsyu1BbkcR+gCEpvdL08KX+5ZkVMND+n406FBKkEQ8vyiOibED7cAAAAmAZ6hdEf/AAAjwLjfwV6RZvKQD9Sn/D0I8Mcm5D+u0c73wn1USoAAAAAyAZ6jakf/AAAjvwQmb/4xwcA4ao5S1Ho3y8VBz5Oxyvz25GsE1rl4wnBpa3ctd0xXsBEAAABvQZqoSahBbJlMCGf//p4QAABFQ5cDxaYZ70D1FTC01VnjACwJl+gwfW78YN1PfHfm5usdEDNvG2OxNMMXj/62zmtHCUyXO5LxjuuMEi+xZ+7iHDMC2oT0bYmZoBYRT8dxhN0Jp63Z+DcvEXOQUxSVAAAAIUGexkUVLCP/AAAWsp7eNxtHC/l0Nexku5OB1SAEBAKckwAAABwBnuV0R/8AACOr+Ft4Ep1oI4gRnrkaA90L8ytnAAAAHwGe52pH/wAAI64xL9F5Q7PNtkBlJyDLNwjdqBJEgIAAAABFQZrsSahBbJlMCGf//p4QAABFVJ06Jodhzd5EEFh9UV9SguLIOL3vtNzdSX7lf+yrNe2GQrBFDDhYp6phEJuzWgTpBRWsAAAAL0GfCkUVLCP/AAAWsytU76aIe1fJmIAhBkg1W8VtdUk4GxAyyFWn2uA5sKL9rKtnAAAAIwGfKXRH/wAAI6nPVM72JXic8UaHT8incA6dXiusFrDBc1JMAAAAIAGfK2pH/wAAI78EJ9jHZoHEfZ05V4NofAy8GXa9kZtmAAAAUEGbMEmoQWyZTAhf//6MsAAARnpvPcutYPZa9ivtqhznJs1qTEgAmrE/sA03lg0vC5CnmbtIOagju6SiNEb4hGcHs1y+VwwBf6yn+lOhbRVnAAAALkGfTkUVLCP/AAAWs8+5OEVJnKCAOtBFOYBUHS+/CYABdatvofG05Oo4E/YvkmEAAAApAZ9tdEf/AAAjwLjfwGVK43SDp4DLmGmPNu8QAtxXEayFAmDG/J6bS28AAAAhAZ9vakf/AAAjscENx2iuDNvy8Lxv724UtC7HRWwSRQnJAAAAYEGbdEmoQWyZTAhf//6MsAAARAD3Gd7esAWqH085QZVAB870IHbtEnMueKPj2JhjaHBrXFnUumc5Xsm9t5o9sBsfbGKf2M9EIgjYxI0Rjy9l20+frKoWSyouKYHgUow0YAAAAEFBn5JFFSwj/wAAFiMskknK2sCmtRqe9y67YYUUFvhYt80yNUQA1esrI+S1xgiMKJpcWHGGOpkXs765L1oOD9xriwAAACcBn7F0R/8AACLAuZW3QuEq93DFM/2Xz3gYUEXr516udgWNezCRKjAAAAAnAZ+zakf/AAAisi05GGym3fUr7HYHUaMx2v4lD1H9MHgYhz1muDTKAAAAQ0GbtkmoQWyZTBRMM//+nhAAAENEaiJdOD/ZfNgl5Ax64o0ZMT1P1bymEXQA+htXK8X4ggXf4l6sSd7OtYuUe11ZCfEAAAAjAZ/Vakf/AAAirjEv0XlDs9BQTjc7o+2o+fT4/Q4VIWLhjFgAAABUQZvaSeEKUmUwIZ/+nhAAAEND1U8uq1RFVn0XeDFcqz6QekM9EABwa8v0GD628xSVUS5G0q30fGmwMM4wIkzQSGM3FbJFR2n+MBtyoV2L2EgKVvrBAAAALEGf+EU0TCP/AAAWIp6otCQ2XXlGfJWEDxN8OEIAAupW18N966E1xsWgEw6ZAAAAIAGeF3RH/wAAIsC438FekWUR+oHQMxbn6ZUKRldlRqQsAAAAJwGeGWpH/wAAIq4xL9Iy06gQK1LIRaZRWODgAFzbaUtsN1IPrAzJsQAAAF9Bmh5JqEFomUwIZ//+nhAAAEND1Ti4wzOYhrGht/UbF1NYBmhm58ygBO09obwG2DfPdajyN1HqmKdDd+qBnvCEULN2hdrnNAVwm5hoxByv9Sk2AMVsdCnC8E55Ea30wAAAAClBnjxFESwj/wAAFiKer5SfsJinxJ2oyIkhByybzZY+edXsr8wuIjTpgQAAACUBnlt0R/8AACLAuN+/+L+KvThxf6DbDYyBwvt9+MxBMTgIKeLBAAAAIwGeXWpH/wAAIq4xL9F5Q7PNtkBlKQhAC3G9zZQa9ErDUTpgAAAAWkGaQkmoQWyZTAhn//6eEAAAQ7pvOs4kHSMr6M0afws6p19J8cwBFfbJzHUEEBbXNGU66s1FpP8iPcgcprHunB8YYCwma34NfWOtV0z8rdDZXjCSFOuYe1CTFAAAADxBnmBFFSwj/wAAFiUl/UyrDkFY9V7eKwQeqVlwlMkXfbzTP5dyADNTrGcMQq66NYYBaRUowMSTvmqyFGEAAAAxAZ6fdEf/AAAiwL0DDFtkX4TRodBACA/RDfAbzeUaTZMq2kwSNxGSpl7vOcn/d7GbegAAACIBnoFqR/8AACGuMwUaC7q2j52Uj1+QJa3a8RmntvgmU1FTAAAAWkGahkmoQWyZTAhn//6eEAAAQUOXDy6cN1AFGRML+bo/Rl/2DPX8wDb6OMiuetKSbYQoBBhmBNBCoWR3EeCgHRkAm//5/YrGnIlnQbE4/PBUQr/Wez97A9PHIAAAACpBnqRFFSwj/wAAFZKfCc7sxD82qWnDvHmAAjk0Eb+Rt1u8+d3yN6NZJx0AAAAnAZ7DdEf/AAAhrDrQ4WhpKqDf2dMYrDFHEVAmm9CtGCSOYsx+qeOBAAAAOQGexWpH/wAAIbHMCW8/tQsRuP3nIL7HcSyy7XMbqnyThsHkHInz3SgAAnFvfo6Hs0SKgKrxGjbnkwAAAHRBmspJqEFsmUwIX//+jLAAAEIBRtiegWbAPllN2K1qPMx/X1b00k2Qfb5VdSn33Xlqds/axtIyWDWjDhEwudXgA7s5FBewRxW/uouZ/TaWO+KnUrJCU7ekZePlZJGyYS73TFzs26abVgHt/yWTnh07PUQ4gQAAAEJBnuhFFSwj/wAAFU+WztLsrk0LaK1Fa9EQqSlAWozmvZlYNNnRFFhjviwABajhGQghlws+eKfPOYlayFvAvDohLyYAAAAyAZ8HdEf/AAAhq/hbiOM4u/T7vbBt5u+NxDJaQPPqO92jN2IM26sRLlQAfXXhP6e18mAAAAAmAZ8Jakf/AAAhvZWtu06Ex9FkQvsrPU59IcdzAwEWqWUanYf0ztkAAAB2QZsNSahBbJlMCGf//p4QAABBUObB0VeT9EFSmUYP90pxCIFaQAywoVfwyGCMT+MvwBCy737nJIBuejIG35eVIfzCOjSRq0RS2OSmTn+jx74c9lP9omJ830dIz9oJYchsO1BeTG72QLKPlljrUfRvRHQdDkGI8AAAAC9BnytFFSwj/wAAFZKe3jZ0pHAP1MwGz5OOnct+YERAAE7pO69bloMBviLVrU244AAAAB8Bn0xqR/8AACGuMS/RZZ6ZS5Du8fCu8xH0Vp0wd/KNAAAASUGbUUmoQWyZTAhn//6eEAAAQbpvOs4kHSMLMpiaSR3W686O2+pYtiM/WxwN8dRsleoAWMEBp3qS15Nd4tscvFWxog1qV6MIg4EAAAAyQZ9vRRUsI/8AABWSnt43G4Aak7vABNrknDGhHIqtVz9ftrASFYLSftt02FxWwV785n0AAAAmAZ+OdEf/AAAhqc7Fk4V0NuStf6YFzdG9tkdWFZqAkPVRI5kCxVgAAAAjAZ+Qakf/AAAhscENxn64cu5/GE5UKqXVPF5Pjf+ArWFFlzsAAACEQZuVSahBbJlMCGf//p4QAAA/XnC4EmjvMCXRgiSNVAHG7UiVWqxnb4GZO2P7uQbOu+ByZcZF78DVUbBFrkBHw1eOFFGZvD3cP6UBd2vSkt0IFFDpgU3B/54W3vl+md2uTotdFa97LTyMtmfNvLShrA87gud5M5vmevVa10jBw8HLNFLBAAAANEGfs0UVLCP/AAAVAp8JzuzETYSgZwmBpYxpyBM5bEvDL15OnqWMUvm4CdUgT98Wn3ED/TAAAAAiAZ/SdEf/AAAgqc/uuS4LMYCME0L74suaYC3Bg3Huci90wAAAACYBn9RqR/8AACCuMeJuEnaZ/L40M4frQ8ybN6XGvc0muOJnCkN0wQAAAEtBm9lJqEFsmUwIZ//+nhAAAD92DfMTQ4SPkQBf5L6//ClM/c/jEDsg3+gkvpoOWpBsBh5mJJxlXI1rQWauqF0RsAFaq78iMCHLnjwAAAAsQZ/3RRUsI/8AABUDK7UFuw+JTKEBQAfWcXoABdTADzDkX+znmmdcsSkOEfEAAAAfAZ4WdEf/AAAgwLjfwV6RZRH6gdAzFufplQpMrLPjywAAAC8BnhhqR/8AACCxzAjOPFmZbO4ZS/bzb3L9NKOLACNoACwYDiEJmmGt9GU1jjn90wAAAF1Bmh1JqEFsmUwIZ//+nhAAAD9ecMZvP7GtZpXHb/VXyIAj229E31dyBftvBn9NBUn5pksOrJPHpqdX8m4my/KdJ6cLfBdsn9PdDAXJBnEJq9xWmgtVrehBDUJY+eUAAAAoQZ47RRUsI/8AABUCnqi0PNPBi+bUCp8H1d30/KS1ElaDjoF0r5uemAAAACMBnlp0R/8AACDAuN/BWwWryaBRwtDtgNo9bi4EFSiLYmZ5QQAAACIBnlxqR/8AACCuMS/ReUOzzbubrxnwnzMfZKihd5GH7S6ZAAAAWUGaQUmoQWyZTAhn//6eEAAAP15DtGQtgEUpwaOcVZ1U+tT3ZLz2fM1j695Q20ioKsLDCaN02BoE//eVNf2eV42MC3vgX5XE5APsiq2CxsdiHAeeW30io9F+AAAAJ0Gef0UVLCP/AAAVAp7eNxtQWgBLatx3tEdPolCbtv5SYr2sIw982AAAACsBnp50R/8AACCr+Ftz6C/5pYqJ/3XLvVMFtCk7+9uQjnZ7XsDkaQs+NBdNAAAAIAGegGpH/wAAIK4xL9F5Q7PNtkBlJyEfnijf4rtcoI+AAAAAV0GahUmoQWyZTAhn//6eEAAAP7wnPE3tIOkXWnGHmgKowQlK7QALAnTlj3T9z3VxgmEoMClT3jnBTLo/S9kSwJFdc5L46wWp0l9dXCoETgKN7nyGscHLPQAAAEZBnqNFFSwj/wAAFQUm45lcaZCY+gCIHjWMkqHk65UQGxn+9iTg3tN5wPNVyPS6PUPDjiRjN2MXk5YKIKgToVoDcSZmtndAAAAAMgGewnRH/wAAIKwVDgvzXrQAku/9nG4podXIKXJQlqutg5fODWpsOa38vLAPMIhkamehAAAALAGexGpH/wAAH7zUZwHPRyAzhm1eEG3m6rGzlK/GueideTpojLrpuPsWvJADAAAASUGayUmoQWyZTAhn//6eEAAAPgpvZgOk1C0smvLzKfNsAcCPYPHwTeeUerdXIrGZrCZ/jsL0Glzoot709ZQ5Nz3eSCAUr6oQWKEAAAA1QZ7nRRUsI/8AABRzLAOiTq4whD5egelQe7wwbiKSkDEK77SogSMpHmUiY2NJ26g89xV1JSEAAAAjAZ8GdEf/AAAfyMrtj0EJlzIuNZaFlRCx15OgpahDSmnslIAAAAAhAZ8Iakf/AAAfvNRp9nSpiGhFMB987rLWvAhLKhFQYiyzAAAAMkGbDUmoQWyZTAhn//6eEAAAPgpvZa8bpJVdolDAhpwZWw1F/r10UZv8++5dzMkRad3NAAAAJ0GfK0UVLCP/AAAUcyu1BbkZ46MRjGt72cUJBou6y8dkuIV3hAxntAAAACIBn0p0R/8AAB/IylkUK2Uo/277/YH8lt1Y7HznAIlqS3LMAAAAJwGfTGpH/wAAH7yVGAFeLNWxhDQz769YSrKZWXcWPziV0XdX8z+LuwAAADxBm1FJqEFsmUwIZ//+nhAAAD3+Q7xnva5MeYoJtfG4kT9TZOCSTufSbkIh1LpbwAzy8dXk9Lz7sqVBUaEAAAAlQZ9vRRUsI/8AABRzK7UFuR0IY0ncobPy5PA8oafhhSB2xjF3QQAAACYBn450R/8AAB/IylkUK2PcnmCiT/AaSanuLbJhUd1a4XTbe1H2gAAAACcBn5BqR/8AAB+8lRhuGPKFiNxZxxlD17lXzsy0O21HMts14NzEAYAAAABMQZuVSahBbJlMCGf//p4QAAA+Cm9lrxuklwfAAIi2jJMPmvqfTvGfoUOP3A+FwZjWRF5EUyQld1hMW8qvSVUsPqW/xCkNmiI0s0kTgQAAACdBn7NFFSwj/wAAFHKe3jcbRwv5dDXst4ABdawIoa5gVzsiPq/fLMAAAAAnAZ/SdEf/AAAfuH2mrBeOLtyv0vH3rJX3iSk7T50Z749jUL5Qst6MAAAAHwGf1GpH/wAAH7mmf1F5Q7PNtkBmP0R8RhPLSw0gBKUAAABhQZvZSahBbJlMCF///oywAAA+vCc932W8ONBv8vFN5EEj+YRyttZJNi3xXSScNAC2XOFfzNJ/RAc3+DypoTqsh4aEsTeathsXqAaGT/YQXMyCiBF22/UFC1IOTt8iLXO+YwAAADlBn/dFFSwj/wAAFHMrtQW6EACVXyrNSAA0fLeJqg2f46Jg5x0punHDoYmQj6p9J7Doyt2F4cp7LY8AAAAzAZ4WdEf/AAAfuH2mwg4eULEbkUbXShBHwCRZV8je9hefX+X5uvkHg2fW1uGgJX1wGu2BAAAAJQGeGGpH/wAAH7yVGKcF1HHAt0LL7t4tOK1OGjVylMgog19bpoAAAABaQZodSahBbJlMCF///oywAAA8/CrmrE/EAKIGCbcDa3Swru2kdPXmbsp+l+JTku5KGfbc8PeQJXKMpTxZ/uWbg3y2iRDzH0TI17GOdZ3GTQ+8B8GFP10uU8/5AAAARUGeO0UVLCP/AAAT4yyPVAaHR/h0FU/8oAbiQo/Smh/XPcpV2Fe5HRvwtJPNg5HRnyLwOkQc+oeEUFCu0akoEyhQre3e7AAAACEBnlp0R/8AAB8YyvfxPm2ZvVuG9wTthQroKN+KVMLDb0EAAAAeAZ5cakf/AAAfF/1WxrLAohg3UB1D6ArdNeyEyPwRAAAAgUGaQUmoQWyZTAhf//6MsAAAPP0KIeCm6H1UMnYEWmvAACHgwE4F7Y/AMOKgjNufgRnjhfC/tINXCqRPLdbHTQ0HJ6Mvn5KDLSTQsg3Svael1XINPa54d7+jlMKoxQiKBNRPmscvF85EFWYV+LNxl2Seqjbp2VI0wBkFZsvzsNuXwAAAADFBnn9FFSwj/wAAE+MsA5497RuO0ANxVOQBEjxSbfrvkb3L5EEj+7tnKbtLcrK+JLygAAAAJAGennRH/wAAHxsYspHWjMPkki7kM95j/JP7KXLxji3RpB8F6QAAAB0BnoBqR/8AAB8X6WyfKWmauFZWBqT6+PJaToCZdgAAADhBmoVJqEFsmUwIV//+OEAAAOzlfuculMUZVVY1lvqxM96LU5QdzahDzhJtZELXRzH3ZeSUjwfzwQAAADVBnqNFFSwj/wAAE+MrtQYA1kVryGsAjQNukPJW7nHdOwm+b/O+bU8TIHcVOGNFSLKJyz96QAAAADABnsJ0R/8AAB8a+PPvt7TNtO6LIR3xpvTsZawUqiPeCFVfoH1oMWdOd6UEiotSP6UAAAAZAZ7Eakf/AAAfF+lsnylpmrhWUx+Lw1yPSQAAADdBmshJqEFsmUwI//yEAAAOG+aTdKSJE5lIFyny8zcQtDB3H2aAACWfiOwjHPgL5iKsktYWQZWBAAAAIUGe5kUVLCP/AAAT4yu1BbkcL+XQ17GS7iIlmf9zUH096QAAABoBnwdqR/8AAB8X6WyfKWmauFZTHyg84H//wAAADE9tb292AAAAbG12aGQAAAAAAAAAAAAAAAAAAAPoAAAPtAABAAABAAAAAAAAAAAAAAAAAQAAAAAAAAAAAAAAAAAAAAEAAAAAAAAAAAAAAAAAAEAAAAAAAAAAAAAAAAAAAAAAAAAAAAAAAAAAAAAAAAACAAALeXRyYWsAAABcdGtoZAAAAAMAAAAAAAAAAAAAAAEAAAAAAAAPtAAAAAAAAAAAAAAAAAAAAAAAAQAAAAAAAAAAAAAAAAAAAAEAAAAAAAAAAAAAAAAAAEAAAAACWAAAAZAAAAAAACRlZHRzAAAAHGVsc3QAAAAAAAAAAQAAD7QAAAIAAAEAAAAACvFtZGlhAAAAIG1kaGQAAAAAAAAAAAAAAAAAADIAAADJAFXEAAAAAAAtaGRscgAAAAAAAAAAdmlkZQAAAAAAAAAAAAAAAFZpZGVvSGFuZGxlcgAAAAqcbWluZgAAABR2bWhkAAAAAQAAAAAAAAAAAAAAJGRpbmYAAAAcZHJlZgAAAAAAAAABAAAADHVybCAAAAABAAAKXHN0YmwAAACYc3RzZAAAAAAAAAABAAAAiGF2YzEAAAAAAAAAAQAAAAAAAAAAAAAAAAAAAAACWAGQAEgAAABIAAAAAAAAAAEAAAAAAAAAAAAAAAAAAAAAAAAAAAAAAAAAAAAAAAAAAAAY//8AAAAyYXZjQwFkAB//4QAZZ2QAH6zZQJgz5eEAAAMAAQAAAwBkDxgxlgEABmjr48siwAAAABhzdHRzAAAAAAAAAAEAAADJAAABAAAAABRzdHNzAAAAAAAAAAEAAAABAAAGKGN0dHMAAAAAAAAAwwAAAAEAAAIAAAAAAQAABQAAAAABAAACAAAAAAEAAAAAAAAAAQAAAQAAAAABAAAFAAAAAAEAAAIAAAAAAQAAAAAAAAABAAABAAAAAAEAAAUAAAAAAQAAAgAAAAABAAAAAAAAAAEAAAEAAAAAAQAABQAAAAABAAACAAAAAAEAAAAAAAAAAQAAAQAAAAABAAAEAAAAAAIAAAEAAAAAAQAABQAAAAABAAACAAAAAAEAAAAAAAAAAQAAAQAAAAABAAAFAAAAAAEAAAIAAAAAAQAAAAAAAAABAAABAAAAAAEAAAQAAAAAAgAAAQAAAAABAAAFAAAAAAEAAAIAAAAAAQAAAAAAAAABAAABAAAAAAEAAAUAAAAAAQAAAgAAAAABAAAAAAAAAAEAAAEAAAAAAQAABAAAAAACAAABAAAAAAEAAAUAAAAAAQAAAgAAAAABAAAAAAAAAAEAAAEAAAAAAQAABQAAAAABAAACAAAAAAEAAAAAAAAAAQAAAQAAAAABAAAFAAAAAAEAAAIAAAAAAQAAAAAAAAABAAABAAAAAAEAAAUAAAAAAQAAAgAAAAABAAAAAAAAAAEAAAEAAAAAAQAABAAAAAACAAABAAAAAAEAAAUAAAAAAQAAAgAAAAABAAAAAAAAAAEAAAEAAAAAAQAABQAAAAABAAACAAAAAAEAAAAAAAAAAQAAAQAAAAABAAAFAAAAAAEAAAIAAAAAAQAAAAAAAAABAAABAAAAAAEAAAUAAAAAAQAAAgAAAAABAAAAAAAAAAEAAAEAAAAAAQAABQAAAAABAAACAAAAAAEAAAAAAAAAAQAAAQAAAAABAAAFAAAAAAEAAAIAAAAAAQAAAAAAAAABAAABAAAAAAEAAAUAAAAAAQAAAgAAAAABAAAAAAAAAAEAAAEAAAAAAQAABQAAAAABAAACAAAAAAEAAAAAAAAAAQAAAQAAAAABAAAFAAAAAAEAAAIAAAAAAQAAAAAAAAABAAABAAAAAAEAAAUAAAAAAQAAAgAAAAABAAAAAAAAAAEAAAEAAAAAAQAABQAAAAABAAACAAAAAAEAAAAAAAAAAQAAAQAAAAABAAAFAAAAAAEAAAIAAAAAAQAAAAAAAAABAAABAAAAAAEAAAUAAAAAAQAAAgAAAAABAAAAAAAAAAEAAAEAAAAAAQAABQAAAAABAAACAAAAAAEAAAAAAAAAAQAAAQAAAAABAAADAAAAAAEAAAEAAAAAAQAABQAAAAABAAACAAAAAAEAAAAAAAAAAQAAAQAAAAABAAAFAAAAAAEAAAIAAAAAAQAAAAAAAAABAAABAAAAAAEAAAUAAAAAAQAAAgAAAAABAAAAAAAAAAEAAAEAAAAAAQAABQAAAAABAAACAAAAAAEAAAAAAAAAAQAAAQAAAAABAAAFAAAAAAEAAAIAAAAAAQAAAAAAAAABAAABAAAAAAEAAAQAAAAAAgAAAQAAAAABAAAFAAAAAAEAAAIAAAAAAQAAAAAAAAABAAABAAAAAAEAAAUAAAAAAQAAAgAAAAABAAAAAAAAAAEAAAEAAAAAAQAABQAAAAABAAACAAAAAAEAAAAAAAAAAQAAAQAAAAABAAAFAAAAAAEAAAIAAAAAAQAAAAAAAAABAAABAAAAAAEAAAUAAAAAAQAAAgAAAAABAAAAAAAAAAEAAAEAAAAAAQAABQAAAAABAAACAAAAAAEAAAAAAAAAAQAAAQAAAAABAAAFAAAAAAEAAAIAAAAAAQAAAAAAAAABAAABAAAAAAEAAAUAAAAAAQAAAgAAAAABAAAAAAAAAAEAAAEAAAAAAQAABQAAAAABAAACAAAAAAEAAAAAAAAAAQAAAQAAAAABAAAFAAAAAAEAAAIAAAAAAQAAAAAAAAABAAABAAAAAAEAAAUAAAAAAQAAAgAAAAABAAAAAAAAAAEAAAEAAAAAAQAABQAAAAABAAACAAAAAAEAAAAAAAAAAQAAAQAAAAABAAAFAAAAAAEAAAIAAAAAAQAAAAAAAAABAAABAAAAAAEAAAUAAAAAAQAAAgAAAAABAAAAAAAAAAEAAAEAAAAAAQAABAAAAAACAAABAAAAABxzdHNjAAAAAAAAAAEAAAABAAAAyQAAAAEAAAM4c3RzegAAAAAAAAAAAAAAyQAABNcAAAAmAAAAFwAAABYAAAAUAAAAdQAAACIAAAAhAAAAEgAAAGIAAAAmAAAAHAAAABoAAABGAAAAIAAAAB4AAAASAAAAdQAAADUAAAAiAAAAgAAAAEcAAAApAAAALwAAAFoAAAArAAAAHgAAACIAAABdAAAAJgAAACAAAACAAAAAMgAAAB0AAAAkAAAAewAAAFAAAAAnAAAAJAAAAI4AAAAvAAAAMgAAAE0AAAAzAAAAIQAAAC4AAABJAAAAIQAAADQAAAASAAAAYAAAACwAAAAcAAAAJAAAAGIAAAAkAAAAGwAAABwAAABuAAAAKAAAACMAAABvAAAAIQAAABUAAAAdAAAAZgAAACMAAAAeAAAAEgAAAEQAAAAsAAAAHwAAABgAAABXAAAAJwAAACsAAAAbAAAAcQAAACsAAAAdAAAAIAAAAEQAAAAwAAAAIgAAADIAAABbAAAALQAAACIAAAAcAAAASgAAACcAAAAqAAAAMAAAAIwAAAAzAAAAMQAAACQAAABZAAAANQAAACoAAAA2AAAAcwAAACUAAAAgAAAAIwAAAEkAAAAzAAAAJwAAACQAAABUAAAAMgAAAC0AAAAlAAAAZAAAAEUAAAArAAAAKwAAAEcAAAAnAAAAWAAAADAAAAAkAAAAKwAAAGMAAAAtAAAAKQAAACcAAABeAAAAQAAAADUAAAAmAAAAXgAAAC4AAAArAAAAPQAAAHgAAABGAAAANgAAACoAAAB6AAAAMwAAACMAAABNAAAANgAAACoAAAAnAAAAiAAAADgAAAAmAAAAKgAAAE8AAAAwAAAAIwAAADMAAABhAAAALAAAACcAAAAmAAAAXQAAACsAAAAvAAAAJAAAAFsAAABKAAAANgAAADAAAABNAAAAOQAAACcAAAAlAAAANgAAACsAAAAmAAAAKwAAAEAAAAApAAAAKgAAACsAAABQAAAAKwAAACsAAAAjAAAAZQAAAD0AAAA3AAAAKQAAAF4AAABJAAAAJQAAACIAAACFAAAANQAAACgAAAAhAAAAPAAAADkAAAA0AAAAHQAAADsAAAAlAAAAHgAAABRzdGNvAAAAAAAAAAEAAAAwAAAAYnVkdGEAAABabWV0YQAAAAAAAAAhaGRscgAAAAAAAAAAbWRpcmFwcGwAAAAAAAAAAAAAAAAtaWxzdAAAACWpdG9vAAAAHWRhdGEAAAABAAAAAExhdmY1Ny44My4xMDA=\" type=\"video/mp4\" />\n",
              "            </video>"
            ]
          },
          "metadata": {}
        }
      ],
      "source": [
        "show_video()"
      ]
    },
    {
      "cell_type": "code",
      "source": [],
      "metadata": {
        "id": "cpxJEKX7l2oO"
      },
      "execution_count": null,
      "outputs": []
    }
  ],
  "metadata": {
    "language_info": {
      "name": "python"
    },
    "colab": {
      "provenance": [],
      "collapsed_sections": []
    },
    "kernelspec": {
      "name": "python3",
      "display_name": "Python 3"
    },
    "widgets": {
      "application/vnd.jupyter.widget-state+json": {
        "15cc61e3b50e43bb90486028f188b69a": {
          "model_module": "@jupyter-widgets/controls",
          "model_name": "HBoxModel",
          "model_module_version": "1.5.0",
          "state": {
            "_dom_classes": [],
            "_model_module": "@jupyter-widgets/controls",
            "_model_module_version": "1.5.0",
            "_model_name": "HBoxModel",
            "_view_count": null,
            "_view_module": "@jupyter-widgets/controls",
            "_view_module_version": "1.5.0",
            "_view_name": "HBoxView",
            "box_style": "",
            "children": [
              "IPY_MODEL_90ced80a573e4560a958b1dc48bff52f",
              "IPY_MODEL_b9b892a7336c4385af94f13781073a23",
              "IPY_MODEL_3485c4748fca42ce96beaab3cdd44459"
            ],
            "layout": "IPY_MODEL_9f1d75e45b514789828125051a530f7e"
          }
        },
        "90ced80a573e4560a958b1dc48bff52f": {
          "model_module": "@jupyter-widgets/controls",
          "model_name": "HTMLModel",
          "model_module_version": "1.5.0",
          "state": {
            "_dom_classes": [],
            "_model_module": "@jupyter-widgets/controls",
            "_model_module_version": "1.5.0",
            "_model_name": "HTMLModel",
            "_view_count": null,
            "_view_module": "@jupyter-widgets/controls",
            "_view_module_version": "1.5.0",
            "_view_name": "HTMLView",
            "description": "",
            "description_tooltip": null,
            "layout": "IPY_MODEL_f452dcdbe7674babbf8d858c4463ee03",
            "placeholder": "​",
            "style": "IPY_MODEL_7bb09e80116942e58977bf466838b079",
            "value": "Epoch 1/1: 100%"
          }
        },
        "b9b892a7336c4385af94f13781073a23": {
          "model_module": "@jupyter-widgets/controls",
          "model_name": "FloatProgressModel",
          "model_module_version": "1.5.0",
          "state": {
            "_dom_classes": [],
            "_model_module": "@jupyter-widgets/controls",
            "_model_module_version": "1.5.0",
            "_model_name": "FloatProgressModel",
            "_view_count": null,
            "_view_module": "@jupyter-widgets/controls",
            "_view_module_version": "1.5.0",
            "_view_name": "ProgressView",
            "bar_style": "success",
            "description": "",
            "description_tooltip": null,
            "layout": "IPY_MODEL_476a2ea54c28490486af0680deb053a1",
            "max": 2446,
            "min": 0,
            "orientation": "horizontal",
            "style": "IPY_MODEL_efc3db8751244750980ef21212781b2f",
            "value": 2446
          }
        },
        "3485c4748fca42ce96beaab3cdd44459": {
          "model_module": "@jupyter-widgets/controls",
          "model_name": "HTMLModel",
          "model_module_version": "1.5.0",
          "state": {
            "_dom_classes": [],
            "_model_module": "@jupyter-widgets/controls",
            "_model_module_version": "1.5.0",
            "_model_name": "HTMLModel",
            "_view_count": null,
            "_view_module": "@jupyter-widgets/controls",
            "_view_module_version": "1.5.0",
            "_view_name": "HTMLView",
            "description": "",
            "description_tooltip": null,
            "layout": "IPY_MODEL_b3fe75c011b64af39b394484d3bf46a7",
            "placeholder": "​",
            "style": "IPY_MODEL_9db24cc404b947deb63b15eeddca953e",
            "value": " 2446/2446 [00:28&lt;00:00, 155.32it/s, loss=0.687]"
          }
        },
        "9f1d75e45b514789828125051a530f7e": {
          "model_module": "@jupyter-widgets/base",
          "model_name": "LayoutModel",
          "model_module_version": "1.2.0",
          "state": {
            "_model_module": "@jupyter-widgets/base",
            "_model_module_version": "1.2.0",
            "_model_name": "LayoutModel",
            "_view_count": null,
            "_view_module": "@jupyter-widgets/base",
            "_view_module_version": "1.2.0",
            "_view_name": "LayoutView",
            "align_content": null,
            "align_items": null,
            "align_self": null,
            "border": null,
            "bottom": null,
            "display": null,
            "flex": null,
            "flex_flow": null,
            "grid_area": null,
            "grid_auto_columns": null,
            "grid_auto_flow": null,
            "grid_auto_rows": null,
            "grid_column": null,
            "grid_gap": null,
            "grid_row": null,
            "grid_template_areas": null,
            "grid_template_columns": null,
            "grid_template_rows": null,
            "height": null,
            "justify_content": null,
            "justify_items": null,
            "left": null,
            "margin": null,
            "max_height": null,
            "max_width": null,
            "min_height": null,
            "min_width": null,
            "object_fit": null,
            "object_position": null,
            "order": null,
            "overflow": null,
            "overflow_x": null,
            "overflow_y": null,
            "padding": null,
            "right": null,
            "top": null,
            "visibility": null,
            "width": null
          }
        },
        "f452dcdbe7674babbf8d858c4463ee03": {
          "model_module": "@jupyter-widgets/base",
          "model_name": "LayoutModel",
          "model_module_version": "1.2.0",
          "state": {
            "_model_module": "@jupyter-widgets/base",
            "_model_module_version": "1.2.0",
            "_model_name": "LayoutModel",
            "_view_count": null,
            "_view_module": "@jupyter-widgets/base",
            "_view_module_version": "1.2.0",
            "_view_name": "LayoutView",
            "align_content": null,
            "align_items": null,
            "align_self": null,
            "border": null,
            "bottom": null,
            "display": null,
            "flex": null,
            "flex_flow": null,
            "grid_area": null,
            "grid_auto_columns": null,
            "grid_auto_flow": null,
            "grid_auto_rows": null,
            "grid_column": null,
            "grid_gap": null,
            "grid_row": null,
            "grid_template_areas": null,
            "grid_template_columns": null,
            "grid_template_rows": null,
            "height": null,
            "justify_content": null,
            "justify_items": null,
            "left": null,
            "margin": null,
            "max_height": null,
            "max_width": null,
            "min_height": null,
            "min_width": null,
            "object_fit": null,
            "object_position": null,
            "order": null,
            "overflow": null,
            "overflow_x": null,
            "overflow_y": null,
            "padding": null,
            "right": null,
            "top": null,
            "visibility": null,
            "width": null
          }
        },
        "7bb09e80116942e58977bf466838b079": {
          "model_module": "@jupyter-widgets/controls",
          "model_name": "DescriptionStyleModel",
          "model_module_version": "1.5.0",
          "state": {
            "_model_module": "@jupyter-widgets/controls",
            "_model_module_version": "1.5.0",
            "_model_name": "DescriptionStyleModel",
            "_view_count": null,
            "_view_module": "@jupyter-widgets/base",
            "_view_module_version": "1.2.0",
            "_view_name": "StyleView",
            "description_width": ""
          }
        },
        "476a2ea54c28490486af0680deb053a1": {
          "model_module": "@jupyter-widgets/base",
          "model_name": "LayoutModel",
          "model_module_version": "1.2.0",
          "state": {
            "_model_module": "@jupyter-widgets/base",
            "_model_module_version": "1.2.0",
            "_model_name": "LayoutModel",
            "_view_count": null,
            "_view_module": "@jupyter-widgets/base",
            "_view_module_version": "1.2.0",
            "_view_name": "LayoutView",
            "align_content": null,
            "align_items": null,
            "align_self": null,
            "border": null,
            "bottom": null,
            "display": null,
            "flex": null,
            "flex_flow": null,
            "grid_area": null,
            "grid_auto_columns": null,
            "grid_auto_flow": null,
            "grid_auto_rows": null,
            "grid_column": null,
            "grid_gap": null,
            "grid_row": null,
            "grid_template_areas": null,
            "grid_template_columns": null,
            "grid_template_rows": null,
            "height": null,
            "justify_content": null,
            "justify_items": null,
            "left": null,
            "margin": null,
            "max_height": null,
            "max_width": null,
            "min_height": null,
            "min_width": null,
            "object_fit": null,
            "object_position": null,
            "order": null,
            "overflow": null,
            "overflow_x": null,
            "overflow_y": null,
            "padding": null,
            "right": null,
            "top": null,
            "visibility": null,
            "width": null
          }
        },
        "efc3db8751244750980ef21212781b2f": {
          "model_module": "@jupyter-widgets/controls",
          "model_name": "ProgressStyleModel",
          "model_module_version": "1.5.0",
          "state": {
            "_model_module": "@jupyter-widgets/controls",
            "_model_module_version": "1.5.0",
            "_model_name": "ProgressStyleModel",
            "_view_count": null,
            "_view_module": "@jupyter-widgets/base",
            "_view_module_version": "1.2.0",
            "_view_name": "StyleView",
            "bar_color": null,
            "description_width": ""
          }
        },
        "b3fe75c011b64af39b394484d3bf46a7": {
          "model_module": "@jupyter-widgets/base",
          "model_name": "LayoutModel",
          "model_module_version": "1.2.0",
          "state": {
            "_model_module": "@jupyter-widgets/base",
            "_model_module_version": "1.2.0",
            "_model_name": "LayoutModel",
            "_view_count": null,
            "_view_module": "@jupyter-widgets/base",
            "_view_module_version": "1.2.0",
            "_view_name": "LayoutView",
            "align_content": null,
            "align_items": null,
            "align_self": null,
            "border": null,
            "bottom": null,
            "display": null,
            "flex": null,
            "flex_flow": null,
            "grid_area": null,
            "grid_auto_columns": null,
            "grid_auto_flow": null,
            "grid_auto_rows": null,
            "grid_column": null,
            "grid_gap": null,
            "grid_row": null,
            "grid_template_areas": null,
            "grid_template_columns": null,
            "grid_template_rows": null,
            "height": null,
            "justify_content": null,
            "justify_items": null,
            "left": null,
            "margin": null,
            "max_height": null,
            "max_width": null,
            "min_height": null,
            "min_width": null,
            "object_fit": null,
            "object_position": null,
            "order": null,
            "overflow": null,
            "overflow_x": null,
            "overflow_y": null,
            "padding": null,
            "right": null,
            "top": null,
            "visibility": null,
            "width": null
          }
        },
        "9db24cc404b947deb63b15eeddca953e": {
          "model_module": "@jupyter-widgets/controls",
          "model_name": "DescriptionStyleModel",
          "model_module_version": "1.5.0",
          "state": {
            "_model_module": "@jupyter-widgets/controls",
            "_model_module_version": "1.5.0",
            "_model_name": "DescriptionStyleModel",
            "_view_count": null,
            "_view_module": "@jupyter-widgets/base",
            "_view_module_version": "1.2.0",
            "_view_name": "StyleView",
            "description_width": ""
          }
        }
      }
    }
  },
  "nbformat": 4,
  "nbformat_minor": 0
}